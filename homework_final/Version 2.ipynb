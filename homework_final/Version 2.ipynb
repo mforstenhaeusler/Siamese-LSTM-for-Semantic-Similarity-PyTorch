{
 "cells": [
  {
   "cell_type": "code",
   "execution_count": 1,
   "metadata": {},
   "outputs": [],
   "source": [
    "from homework_code.dataset.quora_dataset import QuoraDataset, collate\n",
    "from homework_code.dataset.utils import convert_data_to_tuples, text_to_wordlist\n",
    "from homework_code.dataset.language import Language\n",
    "from homework_code.model.network import EmbeddingLSTMNet, SiameseNetwork\n",
    "from homework_code.model.model_trainer import ModelTrainer\n",
    "from homework_code.model.utils import create_pretrained_weights, plotConfusionMatrix, save_model\n",
    "import os\n",
    "import pandas as pd\n",
    "import numpy as np\n",
    "import wandb\n",
    "\n",
    "import torch\n",
    "import torch.nn as nn\n",
    "\n",
    "from torch.utils.data import DataLoader, SubsetRandomSampler\n",
    "\n",
    "%load_ext autoreload\n",
    "\n",
    "%autoreload 2"
   ]
  },
  {
   "cell_type": "markdown",
   "metadata": {},
   "source": [
    "#### Global varibles"
   ]
  },
  {
   "cell_type": "code",
   "execution_count": 2,
   "metadata": {},
   "outputs": [],
   "source": [
    "# Root and directory paths \n",
    "ROOT_PATH = os.getcwd()\n",
    "DATA_FOLDER_PATH = ROOT_PATH + '/data'\n",
    "GOOGLE_EMBEDDING_FOLDER_PATH = DATA_FOLDER_PATH + '/google embedding'\n",
    "GOOGLE_EMBEDDING = GOOGLE_EMBEDDING_FOLDER_PATH + '/GoogleNews-vectors-negative300.bin'\n",
    "MODEL_FOLDER_PATH = ROOT_PATH \n",
    "# important paths \n",
    "DATASET_FILE_PATH = DATA_FOLDER_PATH + '/mini_quora_dataset_30_50_50k.csv'\n",
    "EMBEDDING_PATH = GOOGLE_EMBEDDING_FOLDER_PATH + GOOGLE_EMBEDDING\n",
    "\n",
    "# general variables\n",
    "EMBEDDING_REQUIRES_GRAD = False\n",
    "NUM_LAYERS = 1"
   ]
  },
  {
   "cell_type": "markdown",
   "metadata": {},
   "source": [
    "#### Hyperparameters "
   ]
  },
  {
   "cell_type": "code",
   "execution_count": 3,
   "metadata": {},
   "outputs": [],
   "source": [
    "# hyperperameters \n",
    "\n",
    "hparams = {\n",
    "    'threshold': torch.Tensor([0.5]),\n",
    "    'learning_rate': 1e-03,\n",
    "    'epoch': 50,\n",
    "    'batch_size': 32,\n",
    "    'hidden_dim': 100,\n",
    "    'embedding_dim': 300,\n",
    "    'dropout': 0.0,\n",
    "    'remove_stopwords': True,\n",
    "    'stem_words': True\n",
    "}"
   ]
  },
  {
   "cell_type": "markdown",
   "metadata": {},
   "source": [
    "#### Load File"
   ]
  },
  {
   "cell_type": "code",
   "execution_count": 4,
   "metadata": {},
   "outputs": [],
   "source": [
    "df = pd.read_csv(DATASET_FILE_PATH)"
   ]
  },
  {
   "cell_type": "code",
   "execution_count": 5,
   "metadata": {},
   "outputs": [
    {
     "name": "stdout",
     "output_type": "stream",
     "text": [
      "Question Pairs:  49998\n"
     ]
    }
   ],
   "source": [
    "q_pair, labels = convert_data_to_tuples(df, hparams['remove_stopwords'], hparams['stem_words'])\n"
   ]
  },
  {
   "cell_type": "markdown",
   "metadata": {},
   "source": [
    "#### Crate Language"
   ]
  },
  {
   "cell_type": "code",
   "execution_count": 6,
   "metadata": {},
   "outputs": [],
   "source": [
    "language = Language()\n",
    "for data in [q_pair]:\n",
    "    for question_pair in data:\n",
    "        q1 = question_pair[0]\n",
    "        q2 = question_pair[1]\n",
    "        language.addSentence(q1)\n",
    "        language.addSentence(q2)"
   ]
  },
  {
   "cell_type": "markdown",
   "metadata": {},
   "source": [
    "#### Load datset"
   ]
  },
  {
   "cell_type": "code",
   "execution_count": 7,
   "metadata": {},
   "outputs": [],
   "source": [
    "quora_dataset = QuoraDataset(q_pair, language.word2index, labels)"
   ]
  },
  {
   "cell_type": "code",
   "execution_count": 8,
   "metadata": {},
   "outputs": [
    {
     "name": "stdout",
     "output_type": "stream",
     "text": [
      "question 1: differ way make money fast\n",
      "question 2: fast way make money\n",
      "tokens  q1: [1, 2, 3, 4, 5]\n",
      "tokens  q2: [5, 2, 3, 4]\n",
      "labels    : 1\n"
     ]
    }
   ],
   "source": [
    "for sample in quora_dataset:\n",
    "    print('question 1:', sample['q1'])\n",
    "    print('question 2:', sample['q2'])\n",
    "    print('tokens  q1:', sample['q1_token'])\n",
    "    print('tokens  q2:', sample['q2_token'])\n",
    "    print('labels    :', sample['labels'])\n",
    "    break"
   ]
  },
  {
   "cell_type": "markdown",
   "metadata": {},
   "source": [
    "#### Dataloader"
   ]
  },
  {
   "cell_type": "code",
   "execution_count": 9,
   "metadata": {},
   "outputs": [
    {
     "data": {
      "text/plain": [
       "\"train_split = 0.6\\nval_split = 0.2\\ntest_split = 0.2\\n\\ndataset_size = len(quora_dataset)\\nindices = list(range(dataset_size))\\n\\nsplit_train = int(train_split*dataset_size)\\nsplit_val = split_train + int(val_split*dataset_size)\\n\\nshuffle_dataset = True\\nrandom_seed = 46\\n\\nif shuffle_dataset :\\n    np.random.seed(random_seed)\\n    np.random.shuffle(indices)\\ntrain_indices, val_indices, test_indices = indices[:split_train], indices[split_train:split_val], indices[split_val:]\\n\\nassert len(train_indices) + len(val_indices) + len(test_indices) == dataset_size\\n\\ntrain_sampler = SubsetRandomSampler(train_indices)\\nval_sampler = SubsetRandomSampler(val_indices)\\ntest_sampler = SubsetRandomSampler(test_indices)\\n\\ntrain_dataloader = torch.utils.data.DataLoader(quora_dataset, batch_size=hparams['batch_size'], sampler=train_sampler, collate_fn=collate)\\nval_dataloader = torch.utils.data.DataLoader(quora_dataset, batch_size=hparams['batch_size'], sampler=val_sampler, collate_fn=collate)\\ntest_dataloader = torch.utils.data.DataLoader(quora_dataset, batch_size=hparams['batch_size'], sampler=test_sampler, collate_fn=collate)\\n\\ntest_predict_dataloader = torch.utils.data.DataLoader(quora_dataset, batch_size=1, sampler=test_sampler, collate_fn=collate)\\n\\nprint('Training Set Size {}, Validation Set Size {}, Test Set Size {}'.format(len(train_indices), len(val_indices), len(test_indices)))\\n\""
      ]
     },
     "execution_count": 9,
     "metadata": {},
     "output_type": "execute_result"
    }
   ],
   "source": [
    "\"\"\"train_split = 0.6\n",
    "val_split = 0.2\n",
    "test_split = 0.2\n",
    "\n",
    "dataset_size = len(quora_dataset)\n",
    "indices = list(range(dataset_size))\n",
    "\n",
    "split_train = int(train_split*dataset_size)\n",
    "split_val = split_train + int(val_split*dataset_size)\n",
    "\n",
    "shuffle_dataset = True\n",
    "random_seed = 46\n",
    "\n",
    "if shuffle_dataset :\n",
    "    np.random.seed(random_seed)\n",
    "    np.random.shuffle(indices)\n",
    "train_indices, val_indices, test_indices = indices[:split_train], indices[split_train:split_val], indices[split_val:]\n",
    "\n",
    "assert len(train_indices) + len(val_indices) + len(test_indices) == dataset_size\n",
    "\n",
    "train_sampler = SubsetRandomSampler(train_indices)\n",
    "val_sampler = SubsetRandomSampler(val_indices)\n",
    "test_sampler = SubsetRandomSampler(test_indices)\n",
    "\n",
    "train_dataloader = torch.utils.data.DataLoader(quora_dataset, batch_size=hparams['batch_size'], sampler=train_sampler, collate_fn=collate)\n",
    "val_dataloader = torch.utils.data.DataLoader(quora_dataset, batch_size=hparams['batch_size'], sampler=val_sampler, collate_fn=collate)\n",
    "test_dataloader = torch.utils.data.DataLoader(quora_dataset, batch_size=hparams['batch_size'], sampler=test_sampler, collate_fn=collate)\n",
    "\n",
    "test_predict_dataloader = torch.utils.data.DataLoader(quora_dataset, batch_size=1, sampler=test_sampler, collate_fn=collate)\n",
    "\n",
    "print('Training Set Size {}, Validation Set Size {}, Test Set Size {}'.format(len(train_indices), len(val_indices), len(test_indices)))\n",
    "\"\"\""
   ]
  },
  {
   "cell_type": "code",
   "execution_count": 10,
   "metadata": {},
   "outputs": [
    {
     "name": "stdout",
     "output_type": "stream",
     "text": [
      "Training Set Size 39998, Validation Set Size 10000,\n"
     ]
    }
   ],
   "source": [
    "train_split = 0.8\n",
    "val_split = 0.2\n",
    "\n",
    "dataset_size = len(quora_dataset)\n",
    "indices = list(range(dataset_size))\n",
    "\n",
    "split_train = int(train_split*dataset_size)\n",
    "\n",
    "shuffle_dataset = True\n",
    "random_seed = 46\n",
    "\n",
    "if shuffle_dataset :\n",
    "    np.random.seed(random_seed)\n",
    "    np.random.shuffle(indices)\n",
    "train_indices, val_indices = indices[:split_train], indices[split_train:]\n",
    "\n",
    "assert len(train_indices) + len(val_indices) == dataset_size\n",
    "\n",
    "train_sampler = SubsetRandomSampler(train_indices)\n",
    "val_sampler = SubsetRandomSampler(val_indices)\n",
    "#test_sampler = SubsetRandomSampler(test_indices)\n",
    "\n",
    "train_dataloader = torch.utils.data.DataLoader(quora_dataset, batch_size=hparams['batch_size'], sampler=train_sampler, collate_fn=collate)\n",
    "val_dataloader = torch.utils.data.DataLoader(quora_dataset, batch_size=hparams['batch_size'], sampler=val_sampler, collate_fn=collate)\n",
    "#test_dataloader = torch.utils.data.DataLoader(quora_dataset, batch_size=hparams['batch_size'], sampler=test_sampler, collate_fn=collate)\n",
    "\n",
    "#test_predict_dataloader = torch.utils.data.DataLoader(quora_dataset, batch_size=1, sampler=test_sampler, collate_fn=collate)\n",
    "\n",
    "print('Training Set Size {}, Validation Set Size {},'.format(len(train_indices), len(val_indices)))\n"
   ]
  },
  {
   "cell_type": "code",
   "execution_count": null,
   "metadata": {},
   "outputs": [],
   "source": []
  },
  {
   "cell_type": "markdown",
   "metadata": {},
   "source": [
    "#### Model set up "
   ]
  },
  {
   "cell_type": "code",
   "execution_count": 11,
   "metadata": {},
   "outputs": [],
   "source": [
    "# create pretrained weights \n",
    "# skip this step because time consuming and might make cpu brake\n",
    "# instead import the pretrained_weights.pt\n",
    "\n",
    "#pretrained_weights = create_pretrained_weights(GOOGLE_EMBEDDING, EMBEDDING_DIMENSION, language)\n",
    "#pretrained_weights"
   ]
  },
  {
   "cell_type": "code",
   "execution_count": 12,
   "metadata": {},
   "outputs": [],
   "source": [
    "#torch.save(pretrained_weights, 'pretrained_weights.pt')"
   ]
  },
  {
   "cell_type": "code",
   "execution_count": 13,
   "metadata": {},
   "outputs": [
    {
     "data": {
      "text/plain": [
       "tensor([[ 0.0000,  0.0000,  0.0000,  ...,  0.0000,  0.0000,  0.0000],\n",
       "        [ 0.1396, -0.0062,  0.2148,  ...,  0.0571,  0.0996, -0.2344],\n",
       "        [-0.0967, -0.0264,  0.0903,  ..., -0.0197,  0.2139,  0.1367],\n",
       "        ...,\n",
       "        [-0.2100, -0.3711, -0.1211,  ..., -0.0066,  0.0742, -0.0233],\n",
       "        [-0.1348, -0.0233, -0.0640,  ...,  0.2051,  0.1226, -0.1250],\n",
       "        [-0.0381, -0.1445,  0.1426,  ...,  0.0216,  0.0688,  0.0171]])"
      ]
     },
     "execution_count": 13,
     "metadata": {},
     "output_type": "execute_result"
    }
   ],
   "source": [
    "pre_weights = torch.load('pretrained_weights.pt')\n",
    "pre_weights"
   ]
  },
  {
   "cell_type": "code",
   "execution_count": 14,
   "metadata": {},
   "outputs": [],
   "source": [
    "# embedding net\n",
    "embedding_net2 = EmbeddingLSTMNet(\n",
    "    hparams['embedding_dim'],\n",
    "    hparams['hidden_dim'],\n",
    "    NUM_LAYERS,\n",
    "    EMBEDDING_REQUIRES_GRAD,\n",
    "    pre_weights,\n",
    "    hparams['dropout'],\n",
    ")\n",
    "\n",
    "# siamese model\n",
    "model2 = SiameseNetwork(embedding_net2)\n"
   ]
  },
  {
   "cell_type": "markdown",
   "metadata": {},
   "source": [
    "#### Train"
   ]
  },
  {
   "cell_type": "code",
   "execution_count": 15,
   "metadata": {},
   "outputs": [
    {
     "name": "stderr",
     "output_type": "stream",
     "text": [
      "/Users/Maxi/opt/anaconda3/lib/python3.7/site-packages/cryptography/hazmat/backends/openssl/x509.py:18: CryptographyDeprecationWarning: This version of cryptography contains a temporary pyOpenSSL fallback path. Upgrade pyOpenSSL now.\n",
      "  utils.DeprecatedIn35,\n",
      "\u001b[34m\u001b[1mwandb\u001b[0m: Currently logged in as: \u001b[33mmaxifor\u001b[0m (use `wandb login --relogin` to force relogin)\n",
      "\u001b[34m\u001b[1mwandb\u001b[0m: wandb version 0.12.6 is available!  To upgrade, please run:\n",
      "\u001b[34m\u001b[1mwandb\u001b[0m:  $ pip install wandb --upgrade\n"
     ]
    },
    {
     "data": {
      "text/html": [
       "\n",
       "                    Syncing run <strong><a href=\"https://wandb.ai/maxifor/IBM-Praktikum%20Homework%202/runs/3d5p0uis\" target=\"_blank\">ruby-feather-9</a></strong> to <a href=\"https://wandb.ai/maxifor/IBM-Praktikum%20Homework%202\" target=\"_blank\">Weights & Biases</a> (<a href=\"https://docs.wandb.com/integrations/jupyter.html\" target=\"_blank\">docs</a>).<br/>\n",
       "\n",
       "                "
      ],
      "text/plain": [
       "<IPython.core.display.HTML object>"
      ]
     },
     "metadata": {},
     "output_type": "display_data"
    }
   ],
   "source": [
    "trainer = ModelTrainer(\n",
    "    model2, \n",
    "    hparams, \n",
    "    train_dataloader, \n",
    "    val_dataloader,\n",
    "    train_indices, \n",
    "    val_indices,\n",
    ")"
   ]
  },
  {
   "cell_type": "code",
   "execution_count": 16,
   "metadata": {},
   "outputs": [
    {
     "name": "stderr",
     "output_type": "stream",
     "text": [
      "Epoch [1/50]  Training: 100%|██████████| 1250/1250 [00:28<00:00, 43.70batch/s, train_acc=65.625 %, train_loss=0.212]\n"
     ]
    },
    {
     "name": "stdout",
     "output_type": "stream",
     "text": [
      "Epoch [1/50]: val_loss: 0.20400710703846744 val_acc: 70.6 %\n"
     ]
    },
    {
     "name": "stderr",
     "output_type": "stream",
     "text": [
      "Epoch [2/50]  Training: 100%|██████████| 1250/1250 [00:28<00:00, 44.07batch/s, train_acc=68.75 %, train_loss=0.186] \n"
     ]
    },
    {
     "name": "stdout",
     "output_type": "stream",
     "text": [
      "Epoch [2/50]: val_loss: 0.19483323609486175 val_acc: 71.63000000000001 %\n"
     ]
    },
    {
     "name": "stderr",
     "output_type": "stream",
     "text": [
      "Epoch [3/50]  Training: 100%|██████████| 1250/1250 [00:27<00:00, 44.71batch/s, train_acc=75.0 %, train_loss=0.17]  \n"
     ]
    },
    {
     "name": "stdout",
     "output_type": "stream",
     "text": [
      "Epoch [3/50]: val_loss: 0.18908682284644618 val_acc: 72.54 %\n"
     ]
    },
    {
     "name": "stderr",
     "output_type": "stream",
     "text": [
      "Epoch [4/50]  Training: 100%|██████████| 1250/1250 [00:29<00:00, 42.62batch/s, train_acc=71.875 %, train_loss=0.158]\n"
     ]
    },
    {
     "name": "stdout",
     "output_type": "stream",
     "text": [
      "Epoch [4/50]: val_loss: 0.1879979176595569 val_acc: 72.7 %\n"
     ]
    },
    {
     "name": "stderr",
     "output_type": "stream",
     "text": [
      "Epoch [5/50]  Training: 100%|██████████| 1250/1250 [00:28<00:00, 43.14batch/s, train_acc=87.5 %, train_loss=0.146]  \n"
     ]
    },
    {
     "name": "stdout",
     "output_type": "stream",
     "text": [
      "Epoch [5/50]: val_loss: 0.18442476769320118 val_acc: 73.68 %\n"
     ]
    },
    {
     "name": "stderr",
     "output_type": "stream",
     "text": [
      "Epoch [6/50]  Training: 100%|██████████| 1250/1250 [00:27<00:00, 45.81batch/s, train_acc=78.125 %, train_loss=0.134]\n"
     ]
    },
    {
     "name": "stdout",
     "output_type": "stream",
     "text": [
      "Epoch [6/50]: val_loss: 0.1839403535325687 val_acc: 73.83 %\n"
     ]
    },
    {
     "name": "stderr",
     "output_type": "stream",
     "text": [
      "Epoch [7/50]  Training: 100%|██████████| 1250/1250 [00:27<00:00, 46.02batch/s, train_acc=78.125 %, train_loss=0.125]\n"
     ]
    },
    {
     "name": "stdout",
     "output_type": "stream",
     "text": [
      "Epoch [7/50]: val_loss: 0.18193673529325963 val_acc: 74.35000000000001 %\n"
     ]
    },
    {
     "name": "stderr",
     "output_type": "stream",
     "text": [
      "Epoch [8/50]  Training: 100%|██████████| 1250/1250 [00:27<00:00, 45.42batch/s, train_acc=81.25 %, train_loss=0.116] \n"
     ]
    },
    {
     "name": "stdout",
     "output_type": "stream",
     "text": [
      "Epoch [8/50]: val_loss: 0.18145526845615131 val_acc: 74.33999999999999 %\n"
     ]
    },
    {
     "name": "stderr",
     "output_type": "stream",
     "text": [
      "Epoch [9/50]  Training: 100%|██████████| 1250/1250 [00:27<00:00, 45.88batch/s, train_acc=84.375 %, train_loss=0.108]\n"
     ]
    },
    {
     "name": "stdout",
     "output_type": "stream",
     "text": [
      "Epoch [9/50]: val_loss: 0.18165702022873936 val_acc: 74.17 %\n"
     ]
    },
    {
     "name": "stderr",
     "output_type": "stream",
     "text": [
      "Epoch [10/50]  Training: 100%|██████████| 1250/1250 [00:27<00:00, 45.87batch/s, train_acc=90.625 %, train_loss=0.101]\n"
     ]
    },
    {
     "name": "stdout",
     "output_type": "stream",
     "text": [
      "Epoch [10/50]: val_loss: 0.18192176448222927 val_acc: 74.4 %\n"
     ]
    },
    {
     "name": "stderr",
     "output_type": "stream",
     "text": [
      "Epoch [11/50]  Training: 100%|██████████| 1250/1250 [00:27<00:00, 45.97batch/s, train_acc=84.375 %, train_loss=0.094] \n"
     ]
    },
    {
     "name": "stdout",
     "output_type": "stream",
     "text": [
      "Epoch [11/50]: val_loss: 0.1809529130832075 val_acc: 74.17 %\n"
     ]
    },
    {
     "name": "stderr",
     "output_type": "stream",
     "text": [
      "Epoch [12/50]  Training: 100%|██████████| 1250/1250 [00:28<00:00, 44.40batch/s, train_acc=90.625 %, train_loss=0.088]\n"
     ]
    },
    {
     "name": "stdout",
     "output_type": "stream",
     "text": [
      "Epoch [12/50]: val_loss: 0.18194698828001754 val_acc: 74.64 %\n"
     ]
    },
    {
     "name": "stderr",
     "output_type": "stream",
     "text": [
      "Epoch [13/50]  Training: 100%|██████████| 1250/1250 [00:28<00:00, 43.73batch/s, train_acc=96.875 %, train_loss=0.0831]\n"
     ]
    },
    {
     "name": "stdout",
     "output_type": "stream",
     "text": [
      "Epoch [13/50]: val_loss: 0.18191025770319919 val_acc: 74.85000000000001 %\n"
     ]
    },
    {
     "name": "stderr",
     "output_type": "stream",
     "text": [
      "Epoch [14/50]  Training: 100%|██████████| 1250/1250 [00:28<00:00, 44.48batch/s, train_acc=90.625 %, train_loss=0.0786]\n"
     ]
    },
    {
     "name": "stdout",
     "output_type": "stream",
     "text": [
      "Epoch [14/50]: val_loss: 0.18305950014355082 val_acc: 74.55000000000001 %\n"
     ]
    },
    {
     "name": "stderr",
     "output_type": "stream",
     "text": [
      "Epoch [15/50]  Training: 100%|██████████| 1250/1250 [00:27<00:00, 45.90batch/s, train_acc=87.5 %, train_loss=0.075]  \n"
     ]
    },
    {
     "name": "stdout",
     "output_type": "stream",
     "text": [
      "Epoch [15/50]: val_loss: 0.1836660217029599 val_acc: 74.44 %\n"
     ]
    },
    {
     "name": "stderr",
     "output_type": "stream",
     "text": [
      "Epoch [16/50]  Training: 100%|██████████| 1250/1250 [00:27<00:00, 46.02batch/s, train_acc=93.75 %, train_loss=0.0709] \n"
     ]
    },
    {
     "name": "stdout",
     "output_type": "stream",
     "text": [
      "Epoch [16/50]: val_loss: 0.1831562534783976 val_acc: 74.82 %\n"
     ]
    },
    {
     "name": "stderr",
     "output_type": "stream",
     "text": [
      "Epoch [17/50]  Training: 100%|██████████| 1250/1250 [00:27<00:00, 46.09batch/s, train_acc=100.0 %, train_loss=0.0679] \n"
     ]
    },
    {
     "name": "stdout",
     "output_type": "stream",
     "text": [
      "Epoch [17/50]: val_loss: 0.18448601420314167 val_acc: 74.72999999999999 %\n"
     ]
    },
    {
     "name": "stderr",
     "output_type": "stream",
     "text": [
      "Epoch [18/50]  Training: 100%|██████████| 1250/1250 [00:27<00:00, 45.94batch/s, train_acc=100.0 %, train_loss=0.0652] \n"
     ]
    },
    {
     "name": "stdout",
     "output_type": "stream",
     "text": [
      "Epoch [18/50]: val_loss: 0.18459893213198209 val_acc: 74.83 %\n"
     ]
    },
    {
     "name": "stderr",
     "output_type": "stream",
     "text": [
      "Epoch [19/50]  Training: 100%|██████████| 1250/1250 [00:27<00:00, 45.92batch/s, train_acc=100.0 %, train_loss=0.0625]\n"
     ]
    },
    {
     "name": "stdout",
     "output_type": "stream",
     "text": [
      "Epoch [19/50]: val_loss: 0.18528154609016717 val_acc: 74.53 %\n"
     ]
    },
    {
     "name": "stderr",
     "output_type": "stream",
     "text": [
      "Epoch [20/50]  Training: 100%|██████████| 1250/1250 [00:27<00:00, 45.15batch/s, train_acc=90.625 %, train_loss=0.0601]\n"
     ]
    },
    {
     "name": "stdout",
     "output_type": "stream",
     "text": [
      "Epoch [20/50]: val_loss: 0.18571181904774503 val_acc: 74.56 %\n"
     ]
    },
    {
     "name": "stderr",
     "output_type": "stream",
     "text": [
      "Epoch [21/50]  Training: 100%|██████████| 1250/1250 [00:28<00:00, 43.88batch/s, train_acc=93.75 %, train_loss=0.058]  \n"
     ]
    },
    {
     "name": "stdout",
     "output_type": "stream",
     "text": [
      "Epoch [21/50]: val_loss: 0.1862070740887913 val_acc: 74.59 %\n"
     ]
    },
    {
     "name": "stderr",
     "output_type": "stream",
     "text": [
      "Epoch [22/50]  Training: 100%|██████████| 1250/1250 [00:27<00:00, 45.17batch/s, train_acc=100.0 %, train_loss=0.0565] \n"
     ]
    },
    {
     "name": "stdout",
     "output_type": "stream",
     "text": [
      "Epoch [22/50]: val_loss: 0.18605662694278235 val_acc: 74.67 %\n"
     ]
    },
    {
     "name": "stderr",
     "output_type": "stream",
     "text": [
      "Epoch [23/50]  Training: 100%|██████████| 1250/1250 [00:31<00:00, 39.76batch/s, train_acc=93.75 %, train_loss=0.0548]\n"
     ]
    },
    {
     "name": "stdout",
     "output_type": "stream",
     "text": [
      "Epoch [23/50]: val_loss: 0.1870792044427829 val_acc: 74.62 %\n"
     ]
    },
    {
     "name": "stderr",
     "output_type": "stream",
     "text": [
      "Epoch [24/50]  Training: 100%|██████████| 1250/1250 [00:27<00:00, 46.23batch/s, train_acc=96.875 %, train_loss=0.0533]\n"
     ]
    },
    {
     "name": "stdout",
     "output_type": "stream",
     "text": [
      "Epoch [24/50]: val_loss: 0.18664021443682738 val_acc: 74.47 %\n"
     ]
    },
    {
     "name": "stderr",
     "output_type": "stream",
     "text": [
      "Epoch [25/50]  Training: 100%|██████████| 1250/1250 [00:26<00:00, 46.71batch/s, train_acc=93.75 %, train_loss=0.0521] \n"
     ]
    },
    {
     "name": "stdout",
     "output_type": "stream",
     "text": [
      "Epoch [25/50]: val_loss: 0.1869813036709167 val_acc: 74.57000000000001 %\n"
     ]
    },
    {
     "name": "stderr",
     "output_type": "stream",
     "text": [
      "Epoch [26/50]  Training: 100%|██████████| 1250/1250 [00:27<00:00, 46.10batch/s, train_acc=96.875 %, train_loss=0.0508]\n"
     ]
    },
    {
     "name": "stdout",
     "output_type": "stream",
     "text": [
      "Epoch [26/50]: val_loss: 0.1875325978492586 val_acc: 74.63 %\n"
     ]
    },
    {
     "name": "stderr",
     "output_type": "stream",
     "text": [
      "Epoch [27/50]  Training: 100%|██████████| 1250/1250 [00:27<00:00, 46.06batch/s, train_acc=96.875 %, train_loss=0.0496]\n"
     ]
    },
    {
     "name": "stdout",
     "output_type": "stream",
     "text": [
      "Epoch [27/50]: val_loss: 0.18768495568833032 val_acc: 74.56 %\n"
     ]
    },
    {
     "name": "stderr",
     "output_type": "stream",
     "text": [
      "Epoch [28/50]  Training: 100%|██████████| 1250/1250 [00:27<00:00, 46.25batch/s, train_acc=93.75 %, train_loss=0.0486]\n"
     ]
    },
    {
     "name": "stdout",
     "output_type": "stream",
     "text": [
      "Epoch [28/50]: val_loss: 0.1880897483505761 val_acc: 74.57000000000001 %\n"
     ]
    },
    {
     "name": "stderr",
     "output_type": "stream",
     "text": [
      "Epoch [29/50]  Training: 100%|██████████| 1250/1250 [00:26<00:00, 47.10batch/s, train_acc=93.75 %, train_loss=0.0478] \n"
     ]
    },
    {
     "name": "stdout",
     "output_type": "stream",
     "text": [
      "Epoch [29/50]: val_loss: 0.1885981738400726 val_acc: 74.64 %\n"
     ]
    },
    {
     "name": "stderr",
     "output_type": "stream",
     "text": [
      "Epoch [30/50]  Training: 100%|██████████| 1250/1250 [00:26<00:00, 46.59batch/s, train_acc=90.625 %, train_loss=0.0472]\n"
     ]
    },
    {
     "name": "stdout",
     "output_type": "stream",
     "text": [
      "Epoch [30/50]: val_loss: 0.18846220549303122 val_acc: 74.66000000000001 %\n"
     ]
    },
    {
     "name": "stderr",
     "output_type": "stream",
     "text": [
      "Epoch [31/50]  Training: 100%|██████████| 1250/1250 [00:26<00:00, 46.91batch/s, train_acc=96.875 %, train_loss=0.0461]\n"
     ]
    },
    {
     "name": "stdout",
     "output_type": "stream",
     "text": [
      "Epoch [31/50]: val_loss: 0.1886492096625578 val_acc: 74.64 %\n"
     ]
    },
    {
     "name": "stderr",
     "output_type": "stream",
     "text": [
      "Epoch [32/50]  Training: 100%|██████████| 1250/1250 [00:27<00:00, 46.28batch/s, train_acc=100.0 %, train_loss=0.0455] \n"
     ]
    },
    {
     "name": "stdout",
     "output_type": "stream",
     "text": [
      "Epoch [32/50]: val_loss: 0.1888665076785575 val_acc: 74.6 %\n"
     ]
    },
    {
     "name": "stderr",
     "output_type": "stream",
     "text": [
      "Epoch [33/50]  Training: 100%|██████████| 1250/1250 [00:26<00:00, 46.74batch/s, train_acc=90.625 %, train_loss=0.0451]\n"
     ]
    },
    {
     "name": "stdout",
     "output_type": "stream",
     "text": [
      "Epoch [33/50]: val_loss: 0.18894739934621146 val_acc: 74.7 %\n"
     ]
    },
    {
     "name": "stderr",
     "output_type": "stream",
     "text": [
      "Epoch [34/50]  Training: 100%|██████████| 1250/1250 [00:27<00:00, 46.27batch/s, train_acc=90.625 %, train_loss=0.0444]\n"
     ]
    },
    {
     "name": "stdout",
     "output_type": "stream",
     "text": [
      "Epoch [34/50]: val_loss: 0.18903043691199808 val_acc: 74.56 %\n"
     ]
    },
    {
     "name": "stderr",
     "output_type": "stream",
     "text": [
      "Epoch [35/50]  Training: 100%|██████████| 1250/1250 [00:26<00:00, 46.63batch/s, train_acc=100.0 %, train_loss=0.0443]\n"
     ]
    },
    {
     "name": "stdout",
     "output_type": "stream",
     "text": [
      "Epoch [35/50]: val_loss: 0.18929762081406748 val_acc: 74.82 %\n"
     ]
    },
    {
     "name": "stderr",
     "output_type": "stream",
     "text": [
      "Epoch [36/50]  Training: 100%|██████████| 1250/1250 [00:26<00:00, 46.91batch/s, train_acc=100.0 %, train_loss=0.0436] \n"
     ]
    },
    {
     "name": "stdout",
     "output_type": "stream",
     "text": [
      "Epoch [36/50]: val_loss: 0.1894623386545684 val_acc: 74.72 %\n"
     ]
    },
    {
     "name": "stderr",
     "output_type": "stream",
     "text": [
      "Epoch [37/50]  Training: 100%|██████████| 1250/1250 [00:27<00:00, 45.85batch/s, train_acc=96.875 %, train_loss=0.0435]\n"
     ]
    },
    {
     "name": "stdout",
     "output_type": "stream",
     "text": [
      "Epoch [37/50]: val_loss: 0.18967277434068366 val_acc: 74.67 %\n"
     ]
    },
    {
     "name": "stderr",
     "output_type": "stream",
     "text": [
      "Epoch [38/50]  Training: 100%|██████████| 1250/1250 [00:26<00:00, 47.01batch/s, train_acc=93.75 %, train_loss=0.043]  \n"
     ]
    },
    {
     "name": "stdout",
     "output_type": "stream",
     "text": [
      "Epoch [38/50]: val_loss: 0.18965415304270797 val_acc: 74.76 %\n"
     ]
    },
    {
     "name": "stderr",
     "output_type": "stream",
     "text": [
      "Epoch [39/50]  Training: 100%|██████████| 1250/1250 [00:26<00:00, 46.45batch/s, train_acc=100.0 %, train_loss=0.0425] \n"
     ]
    },
    {
     "name": "stdout",
     "output_type": "stream",
     "text": [
      "Epoch [39/50]: val_loss: 0.18974381392470563 val_acc: 74.74 %\n"
     ]
    },
    {
     "name": "stderr",
     "output_type": "stream",
     "text": [
      "Epoch [40/50]  Training: 100%|██████████| 1250/1250 [00:27<00:00, 45.72batch/s, train_acc=96.875 %, train_loss=0.0424]\n"
     ]
    },
    {
     "name": "stdout",
     "output_type": "stream",
     "text": [
      "Epoch [40/50]: val_loss: 0.18969688067040125 val_acc: 74.67 %\n"
     ]
    },
    {
     "name": "stderr",
     "output_type": "stream",
     "text": [
      "Epoch [41/50]  Training: 100%|██████████| 1250/1250 [00:26<00:00, 46.81batch/s, train_acc=87.5 %, train_loss=0.0424]  \n"
     ]
    },
    {
     "name": "stdout",
     "output_type": "stream",
     "text": [
      "Epoch [41/50]: val_loss: 0.18993531943510134 val_acc: 74.7 %\n"
     ]
    },
    {
     "name": "stderr",
     "output_type": "stream",
     "text": [
      "Epoch [42/50]  Training: 100%|██████████| 1250/1250 [00:27<00:00, 46.09batch/s, train_acc=96.875 %, train_loss=0.042]\n"
     ]
    },
    {
     "name": "stdout",
     "output_type": "stream",
     "text": [
      "Epoch [42/50]: val_loss: 0.190223820233783 val_acc: 74.66000000000001 %\n"
     ]
    },
    {
     "name": "stderr",
     "output_type": "stream",
     "text": [
      "Epoch [43/50]  Training: 100%|██████████| 1250/1250 [00:26<00:00, 46.43batch/s, train_acc=96.875 %, train_loss=0.0418]\n"
     ]
    },
    {
     "name": "stdout",
     "output_type": "stream",
     "text": [
      "Epoch [43/50]: val_loss: 0.18997877312544437 val_acc: 74.79 %\n"
     ]
    },
    {
     "name": "stderr",
     "output_type": "stream",
     "text": [
      "Epoch [44/50]  Training: 100%|██████████| 1250/1250 [00:26<00:00, 46.39batch/s, train_acc=93.75 %, train_loss=0.0418] \n"
     ]
    },
    {
     "name": "stdout",
     "output_type": "stream",
     "text": [
      "Epoch [44/50]: val_loss: 0.1901494737940665 val_acc: 74.77000000000001 %\n"
     ]
    },
    {
     "name": "stderr",
     "output_type": "stream",
     "text": [
      "Epoch [45/50]  Training: 100%|██████████| 1250/1250 [00:26<00:00, 46.66batch/s, train_acc=100.0 %, train_loss=0.0412]\n"
     ]
    },
    {
     "name": "stdout",
     "output_type": "stream",
     "text": [
      "Epoch [45/50]: val_loss: 0.19054151931033728 val_acc: 74.74 %\n"
     ]
    },
    {
     "name": "stderr",
     "output_type": "stream",
     "text": [
      "Epoch [46/50]  Training: 100%|██████████| 1250/1250 [00:27<00:00, 46.16batch/s, train_acc=93.75 %, train_loss=0.0414]\n"
     ]
    },
    {
     "name": "stdout",
     "output_type": "stream",
     "text": [
      "Epoch [46/50]: val_loss: 0.1902932722966511 val_acc: 74.71 %\n"
     ]
    },
    {
     "name": "stderr",
     "output_type": "stream",
     "text": [
      "Epoch [47/50]  Training: 100%|██████████| 1250/1250 [00:26<00:00, 46.57batch/s, train_acc=96.875 %, train_loss=0.0415]\n"
     ]
    },
    {
     "name": "stdout",
     "output_type": "stream",
     "text": [
      "Epoch [47/50]: val_loss: 0.19052545447795155 val_acc: 74.68 %\n"
     ]
    },
    {
     "name": "stderr",
     "output_type": "stream",
     "text": [
      "Epoch [48/50]  Training: 100%|██████████| 1250/1250 [00:26<00:00, 46.74batch/s, train_acc=96.875 %, train_loss=0.0411]\n"
     ]
    },
    {
     "name": "stdout",
     "output_type": "stream",
     "text": [
      "Epoch [48/50]: val_loss: 0.19042238935875816 val_acc: 74.78 %\n"
     ]
    },
    {
     "name": "stderr",
     "output_type": "stream",
     "text": [
      "Epoch [49/50]  Training: 100%|██████████| 1250/1250 [00:26<00:00, 46.35batch/s, train_acc=96.875 %, train_loss=0.041] \n"
     ]
    },
    {
     "name": "stdout",
     "output_type": "stream",
     "text": [
      "Epoch [49/50]: val_loss: 0.1904678470410478 val_acc: 74.68 %\n"
     ]
    },
    {
     "name": "stderr",
     "output_type": "stream",
     "text": [
      "Epoch [50/50]  Training: 100%|██████████| 1250/1250 [00:26<00:00, 46.50batch/s, train_acc=93.75 %, train_loss=0.0408] \n"
     ]
    },
    {
     "name": "stdout",
     "output_type": "stream",
     "text": [
      "Epoch [50/50]: val_loss: 0.19042065905067868 val_acc: 74.72999999999999 %\n"
     ]
    },
    {
     "data": {
      "text/html": [
       "<br/>Waiting for W&B process to finish, PID 4104... <strong style=\"color:green\">(success).</strong>"
      ],
      "text/plain": [
       "<IPython.core.display.HTML object>"
      ]
     },
     "metadata": {},
     "output_type": "display_data"
    },
    {
     "data": {
      "application/vnd.jupyter.widget-view+json": {
       "model_id": "",
       "version_major": 2,
       "version_minor": 0
      },
      "text/plain": [
       "VBox(children=(Label(value=' 0.00MB of 0.00MB uploaded (0.00MB deduped)\\r'), FloatProgress(value=1.0, max=1.0)…"
      ]
     },
     "metadata": {},
     "output_type": "display_data"
    },
    {
     "data": {
      "text/html": [
       "<style>\n",
       "    table.wandb td:nth-child(1) { padding: 0 10px; text-align: right }\n",
       "    .wandb-row { display: flex; flex-direction: row; flex-wrap: wrap; width: 100% }\n",
       "    .wandb-col { display: flex; flex-direction: column; flex-basis: 100%; flex: 1; padding: 10px; }\n",
       "    </style>\n",
       "<div class=\"wandb-row\"><div class=\"wandb-col\">\n",
       "<h3>Run history:</h3><br/><table class=\"wandb\"><tr><td>train_acc</td><td>▁▂▃▄▅▅▅▆▆▇▇▇▇▇▇█████████████████████████</td></tr><tr><td>train_loss</td><td>█▇▆▆▅▄▄▄▃▃▃▃▂▂▂▂▂▂▂▂▁▁▁▁▁▁▁▁▁▁▁▁▁▁▁▁▁▁▁▁</td></tr><tr><td>val_acc</td><td>▁▃▄▄▆▇▇▇▇██████▇███▇████████████████████</td></tr><tr><td>val_loss</td><td>█▅▃▃▂▁▁▁▁▁▁▂▂▂▂▂▃▃▃▃▃▃▃▃▃▃▃▃▄▄▄▄▄▄▄▄▄▄▄▄</td></tr></table><br/></div><div class=\"wandb-col\">\n",
       "<h3>Run summary:</h3><br/><table class=\"wandb\"><tr><td>train_acc</td><td>96.50733</td></tr><tr><td>train_loss</td><td>0.04092</td></tr><tr><td>val_acc</td><td>74.73</td></tr><tr><td>val_loss</td><td>0.19042</td></tr></table>\n",
       "</div></div>\n",
       "Synced 6 W&B file(s), 0 media file(s), 0 artifact file(s) and 0 other file(s)\n",
       "<br/>Synced <strong style=\"color:#cdcd00\">ruby-feather-9</strong>: <a href=\"https://wandb.ai/maxifor/IBM-Praktikum%20Homework%202/runs/3d5p0uis\" target=\"_blank\">https://wandb.ai/maxifor/IBM-Praktikum%20Homework%202/runs/3d5p0uis</a><br/>\n",
       "Find logs at: <code>./wandb/run-20211106_140203-3d5p0uis/logs</code><br/>\n"
      ],
      "text/plain": [
       "<IPython.core.display.HTML object>"
      ]
     },
     "metadata": {},
     "output_type": "display_data"
    }
   ],
   "source": [
    "trainer.fit() "
   ]
  },
  {
   "cell_type": "markdown",
   "metadata": {},
   "source": [
    "#### Testing model "
   ]
  },
  {
   "cell_type": "code",
   "execution_count": 17,
   "metadata": {},
   "outputs": [
    {
     "name": "stdout",
     "output_type": "stream",
     "text": [
      "- - - Model Performance - - -\n",
      "\n",
      "Model Accuracy:  74.72999999999999\n",
      "Correct predictions: 7473, Incorret predictions: 2527\n",
      "\n"
     ]
    },
    {
     "data": {
      "image/png": "[encoded data removed]",
      "text/plain": [
       "<Figure size 432x288 with 2 Axes>"
      ]
     },
     "metadata": {
      "needs_background": "light"
     },
     "output_type": "display_data"
    },
    {
     "name": "stdout",
     "output_type": "stream",
     "text": [
      "TP: 4255\n",
      "FP: 894\n",
      "FN: 1633\n",
      "TN: 3218\n",
      "\n",
      "Percision Score: 0.663368377654092\n",
      "Recall Score: 0.7825875486381323\n",
      "F1 Score: 0.7180631484993864\n"
     ]
    },
    {
     "data": {
      "image/png": "[encoded data removed]",
      "text/plain": [
       "<Figure size 432x288 with 1 Axes>"
      ]
     },
     "metadata": {
      "needs_background": "light"
     },
     "output_type": "display_data"
    }
   ],
   "source": [
    "trainer.test()"
   ]
  },
  {
   "cell_type": "markdown",
   "metadata": {},
   "source": [
    "#### Store Model"
   ]
  },
  {
   "cell_type": "code",
   "execution_count": 18,
   "metadata": {},
   "outputs": [],
   "source": [
    "# filename = \"model.pt\"\n",
    "# path = ROOT_PATH\n",
    "#save_model(model, path)"
   ]
  },
  {
   "cell_type": "code",
   "execution_count": 82,
   "metadata": {},
   "outputs": [],
   "source": [
    "#### check out random sample from training data"
   ]
  },
  {
   "cell_type": "code",
   "execution_count": 83,
   "metadata": {},
   "outputs": [],
   "source": [
    "ind = np.random.choice(len(train_dataloader))\n",
    "test_sample_train = dict()\n",
    "for idx, batch in enumerate(train_dataloader):\n",
    "    if idx == ind:\n",
    "        test_sample_train['q1_text'] = [batch['q1_text'][0]]\n",
    "        test_sample_train['q2_text'] = [batch['q2_text'][0]]\n",
    "        test_sample_train['q1_token'] = [batch['q1_token'][0]]\n",
    "        test_sample_train['q2_token'] = [batch['q2_token'][0]]\n",
    "        test_sample_train['q1_lengths'] = [batch['q1_lengths'][0]]\n",
    "        test_sample_train['q2_lengths'] = [batch['q2_lengths'][0]]\n",
    "        test_sample_train['labels'] = [batch['labels'][0]]\n",
    "        "
   ]
  },
  {
   "cell_type": "code",
   "execution_count": 84,
   "metadata": {},
   "outputs": [
    {
     "name": "stdout",
     "output_type": "stream",
     "text": [
      "question 1: ['get english better']\n",
      "question 2: ['speak english like celebr']\n",
      "tokens  q1: [[93, 8, 400]]\n",
      "tokens  q2: [[1021, 8, 114, 923]]\n",
      "\n",
      "\n",
      "Model predicts 1.0 --> Actual value 1.0\n",
      "Model prediction is correct :)\n",
      "\n",
      "The questions ['get english better'] and ['speak english like celebr'] are similar!\n"
     ]
    }
   ],
   "source": [
    "trainer.predict(test_sample_train)"
   ]
  },
  {
   "cell_type": "code",
   "execution_count": 85,
   "metadata": {},
   "outputs": [],
   "source": [
    "#### checkout random sample from validatin data"
   ]
  },
  {
   "cell_type": "code",
   "execution_count": 86,
   "metadata": {},
   "outputs": [],
   "source": [
    "ind = np.random.choice(len(val_dataloader))\n",
    "\n",
    "test_sample_val = dict()\n",
    "for idx, batch in enumerate(val_dataloader):\n",
    "    if idx == ind:\n",
    "        test_sample_val['q1_text'] = [batch['q1_text'][0]]\n",
    "        test_sample_val['q2_text'] = [batch['q2_text'][0]]\n",
    "        test_sample_val['q1_token'] = [batch['q1_token'][0]]\n",
    "        test_sample_val['q2_token'] = [batch['q2_token'][0]]\n",
    "        test_sample_val['q1_lengths'] = [batch['q1_lengths'][0]]\n",
    "        test_sample_val['q2_lengths'] = [batch['q2_lengths'][0]]\n",
    "        test_sample_val['labels'] = [batch['labels'][0]]"
   ]
  },
  {
   "cell_type": "code",
   "execution_count": 87,
   "metadata": {},
   "outputs": [
    {
     "name": "stdout",
     "output_type": "stream",
     "text": [
      "question 1: ['whatsapp read messag']\n",
      "question 2: ['check whatsapp messag onlin']\n",
      "tokens  q1: [[1193, 1128, 211]]\n",
      "tokens  q2: [[988, 1193, 211, 130]]\n",
      "\n",
      "\n",
      "Model predicts 0.0 --> Actual value 0.0\n",
      "Model prediction is correct :)\n",
      "\n",
      "The questions ['whatsapp read messag'] and ['check whatsapp messag onlin'] are dissimilar!\n"
     ]
    }
   ],
   "source": [
    "trainer.predict(test_sample_val)"
   ]
  },
  {
   "cell_type": "markdown",
   "metadata": {},
   "source": [
    "#### Predict from Custom input"
   ]
  },
  {
   "cell_type": "code",
   "execution_count": 19,
   "metadata": {},
   "outputs": [],
   "source": [
    "default = True  # set to False to create your own inputs\n",
    "similar = False  # select False to dispaly dissimlar example\n",
    "\n",
    "if default:\n",
    "    if similar:\n",
    "        q1 = ['Is it cold today?']\n",
    "        q2 = ['Will it be cold today?']\n",
    "        label = [1.0]\n",
    "    else:\n",
    "        q1 = ['Will I pass the final?']\n",
    "        q2 = ['What will I have for dinner tonight?']\n",
    "        label = [0.0]\n",
    "else:\n",
    "    q1 = input(r'Enter your 1^st question: ')\n",
    "    q2 = input(r'Enter your 2^nd question: ')\n",
    "    label = input('label: ') # 0 for dissimilar, 1 for similar \n",
    "    q1 = [q1]\n",
    "    q2 = [q2]\n",
    "    label = [label]"
   ]
  },
  {
   "cell_type": "code",
   "execution_count": 20,
   "metadata": {},
   "outputs": [
    {
     "name": "stdout",
     "output_type": "stream",
     "text": [
      "Question Pairs:  1\n"
     ]
    },
    {
     "data": {
      "text/plain": [
       "[('pass final', 'dinner tonight')]"
      ]
     },
     "execution_count": 20,
     "metadata": {},
     "output_type": "execute_result"
    }
   ],
   "source": [
    "# prepair custom input\n",
    "# create df\n",
    "df_own = pd.DataFrame(list(zip(q1, q2, label)), columns=['question1', 'question2', 'is_duplicate'])\n",
    "# prepare data \n",
    "q_pair_own, label = convert_data_to_tuples(df_own, hparams['remove_stopwords'], hparams['stem_words'])\n",
    "q_pair_own"
   ]
  },
  {
   "cell_type": "code",
   "execution_count": 21,
   "metadata": {},
   "outputs": [],
   "source": [
    "# create dataset \n",
    "own_dataset = QuoraDataset(q_pair_own, language.word2index, label)\n",
    "\n",
    "# create dataloader\n",
    "predict_dataloader = torch.utils.data.DataLoader(own_dataset, batch_size=1, collate_fn=collate)"
   ]
  },
  {
   "cell_type": "code",
   "execution_count": 22,
   "metadata": {},
   "outputs": [],
   "source": [
    "for sample in predict_dataloader:\n",
    "    test_sample = sample"
   ]
  },
  {
   "cell_type": "code",
   "execution_count": 23,
   "metadata": {},
   "outputs": [
    {
     "name": "stdout",
     "output_type": "stream",
     "text": [
      "question 1: ['pass final']\n",
      "question 2: ['dinner tonight']\n",
      "tokens  q1: [[1243, 1086]]\n",
      "tokens  q2: [[3535, 8789]]\n",
      "\n",
      "\n",
      "Model predicts 0.0 --> Actual value 0.0\n",
      "Model prediction is correct :)\n",
      "\n",
      "The questions ['pass final'] and ['dinner tonight'] are dissimilar!\n"
     ]
    }
   ],
   "source": [
    "trainer.predict(test_sample)"
   ]
  },
  {
   "cell_type": "code",
   "execution_count": 24,
   "metadata": {},
   "outputs": [
    {
     "data": {
      "text/plain": [
       "<bound method Module.parameters of SiameseNetwork(\n",
       "  (embedding): EmbeddingLSTMNet(\n",
       "    (dropout): Dropout(p=0.0, inplace=False)\n",
       "    (lstm): LSTM(300, 100, batch_first=True)\n",
       "    (fc1): Linear(in_features=100, out_features=100, bias=True)\n",
       "    (fc): Linear(in_features=100, out_features=100, bias=True)\n",
       "    (relu): ReLU()\n",
       "    (embedding): Embedding(23020, 300)\n",
       "  )\n",
       ")>"
      ]
     },
     "execution_count": 24,
     "metadata": {},
     "output_type": "execute_result"
    }
   ],
   "source": [
    "model2.parameters"
   ]
  },
  {
   "cell_type": "code",
   "execution_count": 88,
   "metadata": {},
   "outputs": [],
   "source": [
    "from sklearn.manifold import TSNE"
   ]
  },
  {
   "cell_type": "code",
   "execution_count": 91,
   "metadata": {},
   "outputs": [],
   "source": [
    "tsne = TSNE(random_state=1, n_iter=15000, metric=\"cosine\")\n",
    "\n"
   ]
  },
  {
   "cell_type": "code",
   "execution_count": 97,
   "metadata": {},
   "outputs": [
    {
     "ename": "KeyboardInterrupt",
     "evalue": "",
     "output_type": "error",
     "traceback": [
      "\u001b[0;31m---------------------------------------------------------------------------\u001b[0m",
      "\u001b[0;31mKeyboardInterrupt\u001b[0m                         Traceback (most recent call last)",
      "\u001b[0;32m<ipython-input-97-b2dcfda52173>\u001b[0m in \u001b[0;36m<module>\u001b[0;34m\u001b[0m\n\u001b[0;32m----> 1\u001b[0;31m \u001b[0membs\u001b[0m \u001b[0;34m=\u001b[0m \u001b[0mtsne\u001b[0m\u001b[0;34m.\u001b[0m\u001b[0mfit_transform\u001b[0m\u001b[0;34m(\u001b[0m\u001b[0mpre_weights\u001b[0m\u001b[0;34m.\u001b[0m\u001b[0mdetach\u001b[0m\u001b[0;34m(\u001b[0m\u001b[0;34m)\u001b[0m\u001b[0;34m.\u001b[0m\u001b[0mnumpy\u001b[0m\u001b[0;34m(\u001b[0m\u001b[0;34m)\u001b[0m\u001b[0;34m)\u001b[0m\u001b[0;34m\u001b[0m\u001b[0;34m\u001b[0m\u001b[0m\n\u001b[0m",
      "\u001b[0;32m~/opt/anaconda3/lib/python3.7/site-packages/sklearn/manifold/t_sne.py\u001b[0m in \u001b[0;36mfit_transform\u001b[0;34m(self, X, y)\u001b[0m\n\u001b[1;32m    893\u001b[0m             \u001b[0mEmbedding\u001b[0m \u001b[0mof\u001b[0m \u001b[0mthe\u001b[0m \u001b[0mtraining\u001b[0m \u001b[0mdata\u001b[0m \u001b[0;32min\u001b[0m \u001b[0mlow\u001b[0m\u001b[0;34m-\u001b[0m\u001b[0mdimensional\u001b[0m \u001b[0mspace\u001b[0m\u001b[0;34m.\u001b[0m\u001b[0;34m\u001b[0m\u001b[0;34m\u001b[0m\u001b[0m\n\u001b[1;32m    894\u001b[0m         \"\"\"\n\u001b[0;32m--> 895\u001b[0;31m         \u001b[0membedding\u001b[0m \u001b[0;34m=\u001b[0m \u001b[0mself\u001b[0m\u001b[0;34m.\u001b[0m\u001b[0m_fit\u001b[0m\u001b[0;34m(\u001b[0m\u001b[0mX\u001b[0m\u001b[0;34m)\u001b[0m\u001b[0;34m\u001b[0m\u001b[0;34m\u001b[0m\u001b[0m\n\u001b[0m\u001b[1;32m    896\u001b[0m         \u001b[0mself\u001b[0m\u001b[0;34m.\u001b[0m\u001b[0membedding_\u001b[0m \u001b[0;34m=\u001b[0m \u001b[0membedding\u001b[0m\u001b[0;34m\u001b[0m\u001b[0;34m\u001b[0m\u001b[0m\n\u001b[1;32m    897\u001b[0m         \u001b[0;32mreturn\u001b[0m \u001b[0mself\u001b[0m\u001b[0;34m.\u001b[0m\u001b[0membedding_\u001b[0m\u001b[0;34m\u001b[0m\u001b[0;34m\u001b[0m\u001b[0m\n",
      "\u001b[0;32m~/opt/anaconda3/lib/python3.7/site-packages/sklearn/manifold/t_sne.py\u001b[0m in \u001b[0;36m_fit\u001b[0;34m(self, X, skip_num_points)\u001b[0m\n\u001b[1;32m    811\u001b[0m                           \u001b[0mX_embedded\u001b[0m\u001b[0;34m=\u001b[0m\u001b[0mX_embedded\u001b[0m\u001b[0;34m,\u001b[0m\u001b[0;34m\u001b[0m\u001b[0;34m\u001b[0m\u001b[0m\n\u001b[1;32m    812\u001b[0m                           \u001b[0mneighbors\u001b[0m\u001b[0;34m=\u001b[0m\u001b[0mneighbors_nn\u001b[0m\u001b[0;34m,\u001b[0m\u001b[0;34m\u001b[0m\u001b[0;34m\u001b[0m\u001b[0m\n\u001b[0;32m--> 813\u001b[0;31m                           skip_num_points=skip_num_points)\n\u001b[0m\u001b[1;32m    814\u001b[0m \u001b[0;34m\u001b[0m\u001b[0m\n\u001b[1;32m    815\u001b[0m     def _tsne(self, P, degrees_of_freedom, n_samples, X_embedded,\n",
      "\u001b[0;32m~/opt/anaconda3/lib/python3.7/site-packages/sklearn/manifold/t_sne.py\u001b[0m in \u001b[0;36m_tsne\u001b[0;34m(self, P, degrees_of_freedom, n_samples, X_embedded, neighbors, skip_num_points)\u001b[0m\n\u001b[1;32m    862\u001b[0m             \u001b[0mopt_args\u001b[0m\u001b[0;34m[\u001b[0m\u001b[0;34m'n_iter_without_progress'\u001b[0m\u001b[0;34m]\u001b[0m \u001b[0;34m=\u001b[0m \u001b[0mself\u001b[0m\u001b[0;34m.\u001b[0m\u001b[0mn_iter_without_progress\u001b[0m\u001b[0;34m\u001b[0m\u001b[0;34m\u001b[0m\u001b[0m\n\u001b[1;32m    863\u001b[0m             params, kl_divergence, it = _gradient_descent(obj_func, params,\n\u001b[0;32m--> 864\u001b[0;31m                                                           **opt_args)\n\u001b[0m\u001b[1;32m    865\u001b[0m \u001b[0;34m\u001b[0m\u001b[0m\n\u001b[1;32m    866\u001b[0m         \u001b[0;31m# Save the final number of iterations\u001b[0m\u001b[0;34m\u001b[0m\u001b[0;34m\u001b[0m\u001b[0;34m\u001b[0m\u001b[0m\n",
      "\u001b[0;32m~/opt/anaconda3/lib/python3.7/site-packages/sklearn/manifold/t_sne.py\u001b[0m in \u001b[0;36m_gradient_descent\u001b[0;34m(objective, p0, it, n_iter, n_iter_check, n_iter_without_progress, momentum, learning_rate, min_gain, min_grad_norm, verbose, args, kwargs)\u001b[0m\n\u001b[1;32m    352\u001b[0m         \u001b[0mkwargs\u001b[0m\u001b[0;34m[\u001b[0m\u001b[0;34m'compute_error'\u001b[0m\u001b[0;34m]\u001b[0m \u001b[0;34m=\u001b[0m \u001b[0mcheck_convergence\u001b[0m \u001b[0;32mor\u001b[0m \u001b[0mi\u001b[0m \u001b[0;34m==\u001b[0m \u001b[0mn_iter\u001b[0m \u001b[0;34m-\u001b[0m \u001b[0;36m1\u001b[0m\u001b[0;34m\u001b[0m\u001b[0;34m\u001b[0m\u001b[0m\n\u001b[1;32m    353\u001b[0m \u001b[0;34m\u001b[0m\u001b[0m\n\u001b[0;32m--> 354\u001b[0;31m         \u001b[0merror\u001b[0m\u001b[0;34m,\u001b[0m \u001b[0mgrad\u001b[0m \u001b[0;34m=\u001b[0m \u001b[0mobjective\u001b[0m\u001b[0;34m(\u001b[0m\u001b[0mp\u001b[0m\u001b[0;34m,\u001b[0m \u001b[0;34m*\u001b[0m\u001b[0margs\u001b[0m\u001b[0;34m,\u001b[0m \u001b[0;34m**\u001b[0m\u001b[0mkwargs\u001b[0m\u001b[0;34m)\u001b[0m\u001b[0;34m\u001b[0m\u001b[0;34m\u001b[0m\u001b[0m\n\u001b[0m\u001b[1;32m    355\u001b[0m         \u001b[0mgrad_norm\u001b[0m \u001b[0;34m=\u001b[0m \u001b[0mlinalg\u001b[0m\u001b[0;34m.\u001b[0m\u001b[0mnorm\u001b[0m\u001b[0;34m(\u001b[0m\u001b[0mgrad\u001b[0m\u001b[0;34m)\u001b[0m\u001b[0;34m\u001b[0m\u001b[0;34m\u001b[0m\u001b[0m\n\u001b[1;32m    356\u001b[0m \u001b[0;34m\u001b[0m\u001b[0m\n",
      "\u001b[0;32m~/opt/anaconda3/lib/python3.7/site-packages/sklearn/manifold/t_sne.py\u001b[0m in \u001b[0;36m_kl_divergence_bh\u001b[0;34m(params, P, degrees_of_freedom, n_samples, n_components, angle, skip_num_points, verbose, compute_error)\u001b[0m\n\u001b[1;32m    256\u001b[0m                                       \u001b[0mgrad\u001b[0m\u001b[0;34m,\u001b[0m \u001b[0mangle\u001b[0m\u001b[0;34m,\u001b[0m \u001b[0mn_components\u001b[0m\u001b[0;34m,\u001b[0m \u001b[0mverbose\u001b[0m\u001b[0;34m,\u001b[0m\u001b[0;34m\u001b[0m\u001b[0;34m\u001b[0m\u001b[0m\n\u001b[1;32m    257\u001b[0m                                       \u001b[0mdof\u001b[0m\u001b[0;34m=\u001b[0m\u001b[0mdegrees_of_freedom\u001b[0m\u001b[0;34m,\u001b[0m\u001b[0;34m\u001b[0m\u001b[0;34m\u001b[0m\u001b[0m\n\u001b[0;32m--> 258\u001b[0;31m                                       compute_error=compute_error)\n\u001b[0m\u001b[1;32m    259\u001b[0m     \u001b[0mc\u001b[0m \u001b[0;34m=\u001b[0m \u001b[0;36m2.0\u001b[0m \u001b[0;34m*\u001b[0m \u001b[0;34m(\u001b[0m\u001b[0mdegrees_of_freedom\u001b[0m \u001b[0;34m+\u001b[0m \u001b[0;36m1.0\u001b[0m\u001b[0;34m)\u001b[0m \u001b[0;34m/\u001b[0m \u001b[0mdegrees_of_freedom\u001b[0m\u001b[0;34m\u001b[0m\u001b[0;34m\u001b[0m\u001b[0m\n\u001b[1;32m    260\u001b[0m     \u001b[0mgrad\u001b[0m \u001b[0;34m=\u001b[0m \u001b[0mgrad\u001b[0m\u001b[0;34m.\u001b[0m\u001b[0mravel\u001b[0m\u001b[0;34m(\u001b[0m\u001b[0;34m)\u001b[0m\u001b[0;34m\u001b[0m\u001b[0;34m\u001b[0m\u001b[0m\n",
      "\u001b[0;31mKeyboardInterrupt\u001b[0m: "
     ]
    }
   ],
   "source": [
    "embs = tsne.fit_transform(pre_weights.detach().numpy())"
   ]
  },
  {
   "cell_type": "code",
   "execution_count": 95,
   "metadata": {},
   "outputs": [
    {
     "data": {
      "text/plain": [
       "(23020, 300)"
      ]
     },
     "execution_count": 95,
     "metadata": {},
     "output_type": "execute_result"
    }
   ],
   "source": [
    "pre_weights.detach().numpy().shape"
   ]
  },
  {
   "cell_type": "code",
   "execution_count": null,
   "metadata": {},
   "outputs": [],
   "source": []
  }
 ],
 "metadata": {
  "kernelspec": {
   "display_name": "Python 3",
   "language": "python",
   "name": "python3"
  },
  "language_info": {
   "codemirror_mode": {
    "name": "ipython",
    "version": 3
   },
   "file_extension": ".py",
   "mimetype": "text/x-python",
   "name": "python",
   "nbconvert_exporter": "python",
   "pygments_lexer": "ipython3",
   "version": "3.7.4"
  }
 },
 "nbformat": 4,
 "nbformat_minor": 2
}
