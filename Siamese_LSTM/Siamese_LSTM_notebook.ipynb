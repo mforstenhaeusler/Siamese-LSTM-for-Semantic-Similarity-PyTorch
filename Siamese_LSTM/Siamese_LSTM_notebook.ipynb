{
 "cells": [
  {
   "cell_type": "markdown",
   "metadata": {},
   "source": [
    "### Siamese LSTM\n",
    "\n",
    "**Author: Maximilian Forstenhaeusler<br>\n",
    "connect: [mforstenhaeusler](https://github.com/mforstenhaeusler) | [LinkedIn](https://www.linkedin.com/in/maximilian-forstenhaeusler/)**"
   ]
  },
  {
   "cell_type": "markdown",
   "metadata": {},
   "source": [
    "This notebook serves as an example on how a Siamese LSTM Neural Network can be implemented to analyse semantic similarity."
   ]
  },
  {
   "cell_type": "code",
   "execution_count": 1,
   "metadata": {},
   "outputs": [],
   "source": [
    "from siamese_lstm.dataset.quora_dataset import QuoraDataset, collate\n",
    "from siamese_lstm.dataset.utils import convert_data_to_tuples, text_to_wordlist\n",
    "from siamese_lstm.dataset.language import Language\n",
    "from siamese_lstm.model.network import EmbeddingLSTMNet, SiameseNetwork\n",
    "from siamese_lstm.model.model_trainer import ModelTrainer\n",
    "from siamese_lstm.model.utils import create_pretrained_weights, plotConfusionMatrix, save_model\n",
    "import os\n",
    "import pandas as pd\n",
    "import numpy as np\n",
    "import wandb\n",
    "\n",
    "import torch\n",
    "import torch.nn as nn\n",
    "\n",
    "from torch.utils.data import DataLoader, SubsetRandomSampler\n",
    "\n",
    "%load_ext autoreload\n",
    "\n",
    "%autoreload 2"
   ]
  },
  {
   "cell_type": "markdown",
   "metadata": {},
   "source": [
    "#### Set Global Varibles and Paths "
   ]
  },
  {
   "cell_type": "code",
   "execution_count": 2,
   "metadata": {},
   "outputs": [],
   "source": [
    "# Root and directory paths \n",
    "ROOT_PATH = os.getcwd()\n",
    "DATA_FOLDER_PATH = ROOT_PATH + '/data'\n",
    "GOOGLE_EMBEDDING_FOLDER_PATH = DATA_FOLDER_PATH + '/google embedding'\n",
    "GOOGLE_EMBEDDING = GOOGLE_EMBEDDING_FOLDER_PATH + '/GoogleNews-vectors-negative300.bin'\n",
    "MODEL_FOLDER_PATH = ROOT_PATH \n",
    "# important paths \n",
    "DATASET_FILE_PATH = DATA_FOLDER_PATH + '/mini_quora_dataset_30_50_50k.csv'\n",
    "EMBEDDING_PATH = GOOGLE_EMBEDDING_FOLDER_PATH + GOOGLE_EMBEDDING\n",
    "\n",
    "# general variables\n",
    "EMBEDDING_REQUIRES_GRAD = False\n",
    "NUM_LAYERS = 1"
   ]
  },
  {
   "cell_type": "markdown",
   "metadata": {},
   "source": [
    "#### Hyperparameters "
   ]
  },
  {
   "cell_type": "code",
   "execution_count": 3,
   "metadata": {},
   "outputs": [],
   "source": [
    "# hyperperameters \n",
    "# adjust them to optimize the model performance\n",
    "\n",
    "hparams = {\n",
    "    'threshold': torch.Tensor([0.5]),  # threshold for determining similiarity\n",
    "    'learning_rate': 1e-03,  # learning rate\n",
    "    'epoch': 50,  # number of epochs\n",
    "    'batch_size': 32,  # batch_size\n",
    "    'hidden_dim': 100,  # number of hidden dimension\n",
    "    'embedding_dim': 300,  # number of embedding dimension\n",
    "    'dropout': 0.0,  # dropout\n",
    "    'remove_stopwords': False,  # removes stopwords\n",
    "    'stem_words': False,  # remove stem words \n",
    "    'simple': True,  # chooses simple or more complex model \n",
    "    'log_to_wandb': False,  # chooses to log to wandb or not\n",
    "}"
   ]
  },
  {
   "cell_type": "markdown",
   "metadata": {},
   "source": [
    "## Prepare the Dataset\n",
    "\n",
    "#### Load the data"
   ]
  },
  {
   "cell_type": "code",
   "execution_count": 4,
   "metadata": {},
   "outputs": [],
   "source": [
    "df = pd.read_csv(DATASET_FILE_PATH)"
   ]
  },
  {
   "cell_type": "markdown",
   "metadata": {},
   "source": [
    "#### Select question pair and labels and prepare the data "
   ]
  },
  {
   "cell_type": "code",
   "execution_count": 5,
   "metadata": {},
   "outputs": [
    {
     "name": "stdout",
     "output_type": "stream",
     "text": [
      "Question Pairs:  49999\n"
     ]
    }
   ],
   "source": [
    "q_pair, labels = convert_data_to_tuples(df, hparams['remove_stopwords'], hparams['stem_words'])"
   ]
  },
  {
   "cell_type": "markdown",
   "metadata": {},
   "source": [
    "#### Create a Language"
   ]
  },
  {
   "cell_type": "code",
   "execution_count": 6,
   "metadata": {},
   "outputs": [],
   "source": [
    "language = Language()\n",
    "for data in [q_pair]:\n",
    "    for question_pair in data:\n",
    "        q1 = question_pair[0]\n",
    "        q2 = question_pair[1]\n",
    "        language.addSentence(q1)\n",
    "        language.addSentence(q2)"
   ]
  },
  {
   "cell_type": "markdown",
   "metadata": {},
   "source": [
    "### Create the PyTorch Dataset"
   ]
  },
  {
   "cell_type": "code",
   "execution_count": 7,
   "metadata": {},
   "outputs": [],
   "source": [
    "quora_dataset = QuoraDataset(q_pair, language.word2index, labels)"
   ]
  },
  {
   "cell_type": "code",
   "execution_count": 8,
   "metadata": {},
   "outputs": [
    {
     "name": "stdout",
     "output_type": "stream",
     "text": [
      "question 1: what are some different ways to make money fast\n",
      "question 2: what are fast ways to make money\n",
      "tokens  q1: [1, 2, 3, 4, 5, 6, 7, 8, 9]\n",
      "tokens  q2: [1, 2, 9, 5, 6, 7, 8]\n",
      "labels    : 1\n"
     ]
    }
   ],
   "source": [
    "# example output\n",
    "\n",
    "for sample in quora_dataset:\n",
    "    print('question 1:', sample['q1'])\n",
    "    print('question 2:', sample['q2'])\n",
    "    print('tokens  q1:', sample['q1_token'])\n",
    "    print('tokens  q2:', sample['q2_token'])\n",
    "    print('labels    :', sample['labels'])\n",
    "    break"
   ]
  },
  {
   "cell_type": "markdown",
   "metadata": {},
   "source": [
    "### DataLoader"
   ]
  },
  {
   "cell_type": "code",
   "execution_count": 9,
   "metadata": {},
   "outputs": [
    {
     "name": "stdout",
     "output_type": "stream",
     "text": [
      "Training Set Size 39999, Validation Set Size 10000,\n"
     ]
    }
   ],
   "source": [
    "train_split = 0.8\n",
    "val_split = 0.2\n",
    "\n",
    "dataset_size = len(quora_dataset)\n",
    "indices = list(range(dataset_size))\n",
    "\n",
    "split_train = int(train_split*dataset_size)\n",
    "\n",
    "shuffle_dataset = True\n",
    "random_seed = 46\n",
    "\n",
    "if shuffle_dataset :\n",
    "    np.random.seed(random_seed)\n",
    "    np.random.shuffle(indices)\n",
    "train_indices, val_indices = indices[:split_train], indices[split_train:]\n",
    "\n",
    "assert len(train_indices) + len(val_indices) == dataset_size\n",
    "\n",
    "train_sampler = SubsetRandomSampler(train_indices)\n",
    "val_sampler = SubsetRandomSampler(val_indices)\n",
    "\n",
    "train_dataloader = torch.utils.data.DataLoader(quora_dataset, batch_size=hparams['batch_size'], sampler=train_sampler, collate_fn=collate)\n",
    "val_dataloader = torch.utils.data.DataLoader(quora_dataset, batch_size=hparams['batch_size'], sampler=val_sampler, collate_fn=collate)\n",
    "\n",
    "print('Training Set Size {}, Validation Set Size {},'.format(len(train_indices), len(val_indices)))\n"
   ]
  },
  {
   "cell_type": "markdown",
   "metadata": {},
   "source": [
    "## Model "
   ]
  },
  {
   "cell_type": "code",
   "execution_count": 10,
   "metadata": {},
   "outputs": [],
   "source": [
    "# create pretrained weights \n",
    "# skip this step because time consuming and might make cpu brake\n",
    "# instead import the pretrained_weights.pt \n",
    "\n",
    "# pretrained_weights = create_pretrained_weights(GOOGLE_EMBEDDING_PATH, hparams[''embedding_dim''], language)\n",
    "# pretrained_weights"
   ]
  },
  {
   "cell_type": "code",
   "execution_count": 11,
   "metadata": {},
   "outputs": [
    {
     "data": {
      "text/plain": [
       "tensor([[ 0.0000,  0.0000,  0.0000,  ...,  0.0000,  0.0000,  0.0000],\n",
       "        [ 0.1396, -0.0062,  0.2148,  ...,  0.0571,  0.0996, -0.2344],\n",
       "        [-0.0967, -0.0264,  0.0903,  ..., -0.0197,  0.2139,  0.1367],\n",
       "        ...,\n",
       "        [-0.2100, -0.3711, -0.1211,  ..., -0.0066,  0.0742, -0.0233],\n",
       "        [-0.1348, -0.0233, -0.0640,  ...,  0.2051,  0.1226, -0.1250],\n",
       "        [-0.0381, -0.1445,  0.1426,  ...,  0.0216,  0.0688,  0.0171]])"
      ]
     },
     "execution_count": 11,
     "metadata": {},
     "output_type": "execute_result"
    }
   ],
   "source": [
    "pretrained_weights = torch.load('pretrained_weights.pt')\n",
    "pretrained_weights"
   ]
  },
  {
   "cell_type": "markdown",
   "metadata": {},
   "source": [
    "### Initialize PyTorch Model"
   ]
  },
  {
   "cell_type": "code",
   "execution_count": 12,
   "metadata": {},
   "outputs": [],
   "source": [
    "# embedding net\n",
    "embedding_net = EmbeddingLSTMNet(\n",
    "    hparams['embedding_dim'],\n",
    "    hparams['hidden_dim'],\n",
    "    NUM_LAYERS,\n",
    "    EMBEDDING_REQUIRES_GRAD,\n",
    "    pretrained_weights,\n",
    "    hparams['dropout'],\n",
    "    hparams['simple'], # if simple=True --> simple model, if simple=False --> more complex model (2 linear layers plus relu)\n",
    ")\n",
    "\n",
    "# siamese model\n",
    "model = SiameseNetwork(embedding_net)"
   ]
  },
  {
   "cell_type": "code",
   "execution_count": 13,
   "metadata": {},
   "outputs": [
    {
     "data": {
      "text/plain": [
       "tensor([4.2786e-03, 2.2982e-02, 8.7775e-03, 1.0136e-01, 6.3616e-03, 5.6393e-03,\n",
       "        1.5471e-02, 6.5313e-07, 4.6945e-04, 5.9758e-01, 1.2988e-08, 8.1944e-04,\n",
       "        3.9577e-07, 8.4864e-05, 8.5776e-01, 5.0677e-01, 6.4650e-01, 5.7984e-03,\n",
       "        1.0207e-01, 7.1474e-02, 3.5781e-02, 1.4031e-04, 3.7408e-01, 9.9076e-03,\n",
       "        1.6562e-01, 5.5860e-01, 1.1024e-02, 1.0810e-01, 2.4746e-01, 6.8180e-02,\n",
       "        5.2148e-01], grad_fn=<CopySlices>)"
      ]
     },
     "execution_count": 13,
     "metadata": {},
     "output_type": "execute_result"
    }
   ],
   "source": [
    "# test model class with one batch from the dataloader \n",
    "for i, batch in enumerate(train_dataloader):\n",
    "    q1, q2 = batch['q1_token'], batch['q2_token']\n",
    "    q1_len, q2_len = batch['q1_lengths'], batch['q2_lengths']\n",
    "    y = torch.FloatTensor(batch['labels'])\n",
    "\n",
    "model(q1, q2, q1_len, q2_len)"
   ]
  },
  {
   "cell_type": "markdown",
   "metadata": {},
   "source": [
    "### Training"
   ]
  },
  {
   "cell_type": "markdown",
   "metadata": {},
   "source": [
    "#### Initialize the ModelTrainer"
   ]
  },
  {
   "cell_type": "code",
   "execution_count": 14,
   "metadata": {},
   "outputs": [],
   "source": [
    "trainer = ModelTrainer(\n",
    "    model, \n",
    "    hparams, \n",
    "    train_dataloader, \n",
    "    val_dataloader,\n",
    "    train_indices, \n",
    "    val_indices,\n",
    "    log_to_wandb=hparams['log_to_wandb'],\n",
    ")"
   ]
  },
  {
   "cell_type": "markdown",
   "metadata": {},
   "source": [
    "#### Fit the model"
   ]
  },
  {
   "cell_type": "code",
   "execution_count": 15,
   "metadata": {},
   "outputs": [
    {
     "name": "stderr",
     "output_type": "stream",
     "text": [
      "Epoch [1/50]  Training: 100%|██████████| 1250/1250 [00:32<00:00, 38.11batch/s, train_acc=84.375 %, train_loss=0.211]\n"
     ]
    },
    {
     "name": "stdout",
     "output_type": "stream",
     "text": [
      "Epoch [1/50] Validation: val_loss: 0.18572854931457355 val_acc: 72.87 %\n"
     ]
    },
    {
     "name": "stderr",
     "output_type": "stream",
     "text": [
      "Epoch [2/50]  Training: 100%|██████████| 1250/1250 [00:33<00:00, 37.56batch/s, train_acc=78.125 %, train_loss=0.176]\n"
     ]
    },
    {
     "name": "stdout",
     "output_type": "stream",
     "text": [
      "Epoch [2/50] Validation: val_loss: 0.17632684804284915 val_acc: 74.53 %\n"
     ]
    },
    {
     "name": "stderr",
     "output_type": "stream",
     "text": [
      "Epoch [3/50]  Training: 100%|██████████| 1250/1250 [00:32<00:00, 38.46batch/s, train_acc=75.0 %, train_loss=0.164]  \n"
     ]
    },
    {
     "name": "stdout",
     "output_type": "stream",
     "text": [
      "Epoch [3/50] Validation: val_loss: 0.17207175926469004 val_acc: 75.67 %\n"
     ]
    },
    {
     "name": "stderr",
     "output_type": "stream",
     "text": [
      "Epoch [4/50]  Training: 100%|██████████| 1250/1250 [00:33<00:00, 37.07batch/s, train_acc=87.5 %, train_loss=0.157]  \n"
     ]
    },
    {
     "name": "stdout",
     "output_type": "stream",
     "text": [
      "Epoch [4/50] Validation: val_loss: 0.16990874705318446 val_acc: 75.82 %\n"
     ]
    },
    {
     "name": "stderr",
     "output_type": "stream",
     "text": [
      "Epoch [5/50]  Training: 100%|██████████| 1250/1250 [00:32<00:00, 38.68batch/s, train_acc=68.75 %, train_loss=0.151]\n"
     ]
    },
    {
     "name": "stdout",
     "output_type": "stream",
     "text": [
      "Epoch [5/50] Validation: val_loss: 0.1670975553008695 val_acc: 75.99000000000001 %\n"
     ]
    },
    {
     "name": "stderr",
     "output_type": "stream",
     "text": [
      "Epoch [6/50]  Training: 100%|██████████| 1250/1250 [00:32<00:00, 38.82batch/s, train_acc=62.5 %, train_loss=0.147]  \n"
     ]
    },
    {
     "name": "stdout",
     "output_type": "stream",
     "text": [
      "Epoch [6/50] Validation: val_loss: 0.16675287170912892 val_acc: 76.55 %\n"
     ]
    },
    {
     "name": "stderr",
     "output_type": "stream",
     "text": [
      "Epoch [7/50]  Training: 100%|██████████| 1250/1250 [00:32<00:00, 39.00batch/s, train_acc=90.625 %, train_loss=0.143]\n"
     ]
    },
    {
     "name": "stdout",
     "output_type": "stream",
     "text": [
      "Epoch [7/50] Validation: val_loss: 0.16431928709292185 val_acc: 76.61 %\n"
     ]
    },
    {
     "name": "stderr",
     "output_type": "stream",
     "text": [
      "Epoch [8/50]  Training: 100%|██████████| 1250/1250 [00:32<00:00, 38.50batch/s, train_acc=75.0 %, train_loss=0.14]  \n"
     ]
    },
    {
     "name": "stdout",
     "output_type": "stream",
     "text": [
      "Epoch [8/50] Validation: val_loss: 0.1637403867638911 val_acc: 77.08 %\n"
     ]
    },
    {
     "name": "stderr",
     "output_type": "stream",
     "text": [
      "Epoch [9/50]  Training: 100%|██████████| 1250/1250 [00:32<00:00, 38.67batch/s, train_acc=96.875 %, train_loss=0.137]\n"
     ]
    },
    {
     "name": "stdout",
     "output_type": "stream",
     "text": [
      "Epoch [9/50] Validation: val_loss: 0.16283673383652592 val_acc: 76.95 %\n"
     ]
    },
    {
     "name": "stderr",
     "output_type": "stream",
     "text": [
      "Epoch [10/50]  Training: 100%|██████████| 1250/1250 [00:31<00:00, 39.26batch/s, train_acc=90.625 %, train_loss=0.135]\n"
     ]
    },
    {
     "name": "stdout",
     "output_type": "stream",
     "text": [
      "Epoch [10/50] Validation: val_loss: 0.16174951324257225 val_acc: 77.03999999999999 %\n"
     ]
    },
    {
     "name": "stderr",
     "output_type": "stream",
     "text": [
      "Epoch [11/50]  Training: 100%|██████████| 1250/1250 [00:32<00:00, 38.85batch/s, train_acc=87.5 %, train_loss=0.133]  \n"
     ]
    },
    {
     "name": "stdout",
     "output_type": "stream",
     "text": [
      "Epoch [11/50] Validation: val_loss: 0.16121463998914146 val_acc: 77.33 %\n"
     ]
    },
    {
     "name": "stderr",
     "output_type": "stream",
     "text": [
      "Epoch [12/50]  Training: 100%|██████████| 1250/1250 [00:32<00:00, 38.60batch/s, train_acc=93.75 %, train_loss=0.13] \n"
     ]
    },
    {
     "name": "stdout",
     "output_type": "stream",
     "text": [
      "Epoch [12/50] Validation: val_loss: 0.16132164720338754 val_acc: 77.10000000000001 %\n"
     ]
    },
    {
     "name": "stderr",
     "output_type": "stream",
     "text": [
      "Epoch [13/50]  Training: 100%|██████████| 1250/1250 [00:32<00:00, 38.73batch/s, train_acc=93.75 %, train_loss=0.129]\n"
     ]
    },
    {
     "name": "stdout",
     "output_type": "stream",
     "text": [
      "Epoch [13/50] Validation: val_loss: 0.16047268456068284 val_acc: 77.25999999999999 %\n"
     ]
    },
    {
     "name": "stderr",
     "output_type": "stream",
     "text": [
      "Epoch [14/50]  Training: 100%|██████████| 1250/1250 [00:32<00:00, 38.89batch/s, train_acc=84.375 %, train_loss=0.127]\n"
     ]
    },
    {
     "name": "stdout",
     "output_type": "stream",
     "text": [
      "Epoch [14/50] Validation: val_loss: 0.16022053251441676 val_acc: 77.22 %\n"
     ]
    },
    {
     "name": "stderr",
     "output_type": "stream",
     "text": [
      "Epoch [15/50]  Training: 100%|██████████| 1250/1250 [00:31<00:00, 39.17batch/s, train_acc=90.625 %, train_loss=0.126]\n"
     ]
    },
    {
     "name": "stdout",
     "output_type": "stream",
     "text": [
      "Epoch [15/50] Validation: val_loss: 0.15991931708571247 val_acc: 77.42999999999999 %\n"
     ]
    },
    {
     "name": "stderr",
     "output_type": "stream",
     "text": [
      "Epoch [16/50]  Training: 100%|██████████| 1250/1250 [00:31<00:00, 39.38batch/s, train_acc=90.625 %, train_loss=0.125]\n"
     ]
    },
    {
     "name": "stdout",
     "output_type": "stream",
     "text": [
      "Epoch [16/50] Validation: val_loss: 0.15955296120704554 val_acc: 77.53999999999999 %\n"
     ]
    },
    {
     "name": "stderr",
     "output_type": "stream",
     "text": [
      "Epoch [17/50]  Training: 100%|██████████| 1250/1250 [00:31<00:00, 39.37batch/s, train_acc=90.625 %, train_loss=0.124]\n"
     ]
    },
    {
     "name": "stdout",
     "output_type": "stream",
     "text": [
      "Epoch [17/50] Validation: val_loss: 0.15935345936697512 val_acc: 77.62 %\n"
     ]
    },
    {
     "name": "stderr",
     "output_type": "stream",
     "text": [
      "Epoch [18/50]  Training: 100%|██████████| 1250/1250 [00:31<00:00, 39.31batch/s, train_acc=84.375 %, train_loss=0.123]\n"
     ]
    },
    {
     "name": "stdout",
     "output_type": "stream",
     "text": [
      "Epoch [18/50] Validation: val_loss: 0.15947055959473022 val_acc: 77.66999999999999 %\n"
     ]
    },
    {
     "name": "stderr",
     "output_type": "stream",
     "text": [
      "Epoch [19/50]  Training: 100%|██████████| 1250/1250 [00:31<00:00, 39.20batch/s, train_acc=78.125 %, train_loss=0.122]\n"
     ]
    },
    {
     "name": "stdout",
     "output_type": "stream",
     "text": [
      "Epoch [19/50] Validation: val_loss: 0.15933148246318007 val_acc: 77.56 %\n"
     ]
    },
    {
     "name": "stderr",
     "output_type": "stream",
     "text": [
      "Epoch [20/50]  Training: 100%|██████████| 1250/1250 [00:32<00:00, 39.04batch/s, train_acc=78.125 %, train_loss=0.121]\n"
     ]
    },
    {
     "name": "stdout",
     "output_type": "stream",
     "text": [
      "Epoch [20/50] Validation: val_loss: 0.15907437875628852 val_acc: 77.7 %\n"
     ]
    },
    {
     "name": "stderr",
     "output_type": "stream",
     "text": [
      "Epoch [21/50]  Training: 100%|██████████| 1250/1250 [00:32<00:00, 39.01batch/s, train_acc=78.125 %, train_loss=0.12]\n"
     ]
    },
    {
     "name": "stdout",
     "output_type": "stream",
     "text": [
      "Epoch [21/50] Validation: val_loss: 0.15940751808996018 val_acc: 77.46 %\n"
     ]
    },
    {
     "name": "stderr",
     "output_type": "stream",
     "text": [
      "Epoch [22/50]  Training: 100%|██████████| 1250/1250 [00:32<00:00, 38.47batch/s, train_acc=96.875 %, train_loss=0.119]\n"
     ]
    },
    {
     "name": "stdout",
     "output_type": "stream",
     "text": [
      "Epoch [22/50] Validation: val_loss: 0.1591235170491968 val_acc: 77.64 %\n"
     ]
    },
    {
     "name": "stderr",
     "output_type": "stream",
     "text": [
      "Epoch [23/50]  Training: 100%|██████████| 1250/1250 [00:32<00:00, 38.57batch/s, train_acc=84.375 %, train_loss=0.119]\n"
     ]
    },
    {
     "name": "stdout",
     "output_type": "stream",
     "text": [
      "Epoch [23/50] Validation: val_loss: 0.15903449667909275 val_acc: 77.55 %\n"
     ]
    },
    {
     "name": "stderr",
     "output_type": "stream",
     "text": [
      "Epoch [24/50]  Training: 100%|██████████| 1250/1250 [00:31<00:00, 39.15batch/s, train_acc=90.625 %, train_loss=0.118]\n"
     ]
    },
    {
     "name": "stdout",
     "output_type": "stream",
     "text": [
      "Epoch [24/50] Validation: val_loss: 0.15911234900974236 val_acc: 77.53999999999999 %\n"
     ]
    },
    {
     "name": "stderr",
     "output_type": "stream",
     "text": [
      "Epoch [25/50]  Training: 100%|██████████| 1250/1250 [00:31<00:00, 39.38batch/s, train_acc=71.875 %, train_loss=0.118]\n"
     ]
    },
    {
     "name": "stdout",
     "output_type": "stream",
     "text": [
      "Epoch [25/50] Validation: val_loss: 0.15863673238994214 val_acc: 77.59 %\n"
     ]
    },
    {
     "name": "stderr",
     "output_type": "stream",
     "text": [
      "Epoch [26/50]  Training: 100%|██████████| 1250/1250 [00:32<00:00, 38.04batch/s, train_acc=93.75 %, train_loss=0.117] \n"
     ]
    },
    {
     "name": "stdout",
     "output_type": "stream",
     "text": [
      "Epoch [26/50] Validation: val_loss: 0.15873588538303163 val_acc: 77.55 %\n"
     ]
    },
    {
     "name": "stderr",
     "output_type": "stream",
     "text": [
      "Epoch [27/50]  Training: 100%|██████████| 1250/1250 [00:32<00:00, 38.74batch/s, train_acc=90.625 %, train_loss=0.117]\n"
     ]
    },
    {
     "name": "stdout",
     "output_type": "stream",
     "text": [
      "Epoch [27/50] Validation: val_loss: 0.15909627558419498 val_acc: 77.4 %\n"
     ]
    },
    {
     "name": "stderr",
     "output_type": "stream",
     "text": [
      "Epoch [28/50]  Training: 100%|██████████| 1250/1250 [00:32<00:00, 38.79batch/s, train_acc=84.375 %, train_loss=0.117]\n"
     ]
    },
    {
     "name": "stdout",
     "output_type": "stream",
     "text": [
      "Epoch [28/50] Validation: val_loss: 0.15868007570219497 val_acc: 77.46 %\n"
     ]
    },
    {
     "name": "stderr",
     "output_type": "stream",
     "text": [
      "Epoch [29/50]  Training: 100%|██████████| 1250/1250 [00:31<00:00, 39.12batch/s, train_acc=96.875 %, train_loss=0.116]\n"
     ]
    },
    {
     "name": "stdout",
     "output_type": "stream",
     "text": [
      "Epoch [29/50] Validation: val_loss: 0.1588394823737038 val_acc: 77.49000000000001 %\n"
     ]
    },
    {
     "name": "stderr",
     "output_type": "stream",
     "text": [
      "Epoch [30/50]  Training: 100%|██████████| 1250/1250 [00:32<00:00, 38.28batch/s, train_acc=90.625 %, train_loss=0.116]\n"
     ]
    },
    {
     "name": "stdout",
     "output_type": "stream",
     "text": [
      "Epoch [30/50] Validation: val_loss: 0.1593228221272889 val_acc: 77.34 %\n"
     ]
    },
    {
     "name": "stderr",
     "output_type": "stream",
     "text": [
      "Epoch [31/50]  Training: 100%|██████████| 1250/1250 [00:32<00:00, 38.57batch/s, train_acc=87.5 %, train_loss=0.116]  \n"
     ]
    },
    {
     "name": "stdout",
     "output_type": "stream",
     "text": [
      "Epoch [31/50] Validation: val_loss: 0.1590571764130562 val_acc: 77.45 %\n"
     ]
    },
    {
     "name": "stderr",
     "output_type": "stream",
     "text": [
      "Epoch [32/50]  Training: 100%|██████████| 1250/1250 [00:32<00:00, 38.96batch/s, train_acc=84.375 %, train_loss=0.115]\n"
     ]
    },
    {
     "name": "stdout",
     "output_type": "stream",
     "text": [
      "Epoch [32/50] Validation: val_loss: 0.15912379452976555 val_acc: 77.44 %\n"
     ]
    },
    {
     "name": "stderr",
     "output_type": "stream",
     "text": [
      "Epoch [33/50]  Training: 100%|██████████| 1250/1250 [00:32<00:00, 38.42batch/s, train_acc=87.5 %, train_loss=0.116]  \n"
     ]
    },
    {
     "name": "stdout",
     "output_type": "stream",
     "text": [
      "Epoch [33/50] Validation: val_loss: 0.15908645233883265 val_acc: 77.41 %\n"
     ]
    },
    {
     "name": "stderr",
     "output_type": "stream",
     "text": [
      "Epoch [34/50]  Training: 100%|██████████| 1250/1250 [00:32<00:00, 38.79batch/s, train_acc=84.375 %, train_loss=0.115]\n"
     ]
    },
    {
     "name": "stdout",
     "output_type": "stream",
     "text": [
      "Epoch [34/50] Validation: val_loss: 0.159128834573796 val_acc: 77.46 %\n"
     ]
    },
    {
     "name": "stderr",
     "output_type": "stream",
     "text": [
      "Epoch [35/50]  Training: 100%|██████████| 1250/1250 [00:31<00:00, 39.20batch/s, train_acc=75.0 %, train_loss=0.115]  \n"
     ]
    },
    {
     "name": "stdout",
     "output_type": "stream",
     "text": [
      "Epoch [35/50] Validation: val_loss: 0.15890209945722128 val_acc: 77.47 %\n"
     ]
    },
    {
     "name": "stderr",
     "output_type": "stream",
     "text": [
      "Epoch [36/50]  Training: 100%|██████████| 1250/1250 [00:31<00:00, 39.22batch/s, train_acc=96.875 %, train_loss=0.115]\n"
     ]
    },
    {
     "name": "stdout",
     "output_type": "stream",
     "text": [
      "Epoch [36/50] Validation: val_loss: 0.15898507590682362 val_acc: 77.48 %\n"
     ]
    },
    {
     "name": "stderr",
     "output_type": "stream",
     "text": [
      "Epoch [37/50]  Training: 100%|██████████| 1250/1250 [00:31<00:00, 39.31batch/s, train_acc=84.375 %, train_loss=0.115]\n"
     ]
    },
    {
     "name": "stdout",
     "output_type": "stream",
     "text": [
      "Epoch [37/50] Validation: val_loss: 0.1589104368711432 val_acc: 77.44 %\n"
     ]
    },
    {
     "name": "stderr",
     "output_type": "stream",
     "text": [
      "Epoch [38/50]  Training: 100%|██████████| 1250/1250 [00:31<00:00, 39.15batch/s, train_acc=81.25 %, train_loss=0.114] \n"
     ]
    },
    {
     "name": "stdout",
     "output_type": "stream",
     "text": [
      "Epoch [38/50] Validation: val_loss: 0.15917657199092566 val_acc: 77.49000000000001 %\n"
     ]
    },
    {
     "name": "stderr",
     "output_type": "stream",
     "text": [
      "Epoch [39/50]  Training: 100%|██████████| 1250/1250 [00:32<00:00, 39.04batch/s, train_acc=84.375 %, train_loss=0.114]\n"
     ]
    },
    {
     "name": "stdout",
     "output_type": "stream",
     "text": [
      "Epoch [39/50] Validation: val_loss: 0.15890738201407958 val_acc: 77.49000000000001 %\n"
     ]
    },
    {
     "name": "stderr",
     "output_type": "stream",
     "text": [
      "Epoch [40/50]  Training: 100%|██████████| 1250/1250 [00:32<00:00, 38.78batch/s, train_acc=90.625 %, train_loss=0.114]\n"
     ]
    },
    {
     "name": "stdout",
     "output_type": "stream",
     "text": [
      "Epoch [40/50] Validation: val_loss: 0.1589723387703347 val_acc: 77.47 %\n"
     ]
    },
    {
     "name": "stderr",
     "output_type": "stream",
     "text": [
      "Epoch [41/50]  Training: 100%|██████████| 1250/1250 [00:33<00:00, 37.09batch/s, train_acc=84.375 %, train_loss=0.114]\n"
     ]
    },
    {
     "name": "stdout",
     "output_type": "stream",
     "text": [
      "Epoch [41/50] Validation: val_loss: 0.15921680048441353 val_acc: 77.47 %\n"
     ]
    },
    {
     "name": "stderr",
     "output_type": "stream",
     "text": [
      "Epoch [42/50]  Training: 100%|██████████| 1250/1250 [00:32<00:00, 38.68batch/s, train_acc=78.125 %, train_loss=0.114]\n"
     ]
    },
    {
     "name": "stdout",
     "output_type": "stream",
     "text": [
      "Epoch [42/50] Validation: val_loss: 0.15913050724104189 val_acc: 77.39 %\n"
     ]
    },
    {
     "name": "stderr",
     "output_type": "stream",
     "text": [
      "Epoch [43/50]  Training: 100%|██████████| 1250/1250 [00:32<00:00, 38.97batch/s, train_acc=90.625 %, train_loss=0.114]\n"
     ]
    },
    {
     "name": "stdout",
     "output_type": "stream",
     "text": [
      "Epoch [43/50] Validation: val_loss: 0.15884759141423832 val_acc: 77.42 %\n"
     ]
    },
    {
     "name": "stderr",
     "output_type": "stream",
     "text": [
      "Epoch [44/50]  Training: 100%|██████████| 1250/1250 [00:32<00:00, 38.95batch/s, train_acc=93.75 %, train_loss=0.114] \n"
     ]
    },
    {
     "name": "stdout",
     "output_type": "stream",
     "text": [
      "Epoch [44/50] Validation: val_loss: 0.15894757689664157 val_acc: 77.48 %\n"
     ]
    },
    {
     "name": "stderr",
     "output_type": "stream",
     "text": [
      "Epoch [45/50]  Training: 100%|██████████| 1250/1250 [00:32<00:00, 37.94batch/s, train_acc=93.75 %, train_loss=0.114] \n"
     ]
    },
    {
     "name": "stdout",
     "output_type": "stream",
     "text": [
      "Epoch [45/50] Validation: val_loss: 0.15890282035445252 val_acc: 77.53 %\n"
     ]
    },
    {
     "name": "stderr",
     "output_type": "stream",
     "text": [
      "Epoch [46/50]  Training: 100%|██████████| 1250/1250 [00:32<00:00, 38.83batch/s, train_acc=75.0 %, train_loss=0.114]  \n"
     ]
    },
    {
     "name": "stdout",
     "output_type": "stream",
     "text": [
      "Epoch [46/50] Validation: val_loss: 0.15902736963936315 val_acc: 77.45 %\n"
     ]
    },
    {
     "name": "stderr",
     "output_type": "stream",
     "text": [
      "Epoch [47/50]  Training: 100%|██████████| 1250/1250 [00:32<00:00, 38.60batch/s, train_acc=87.5 %, train_loss=0.113] \n"
     ]
    },
    {
     "name": "stdout",
     "output_type": "stream",
     "text": [
      "Epoch [47/50] Validation: val_loss: 0.15893699283512255 val_acc: 77.53 %\n"
     ]
    },
    {
     "name": "stderr",
     "output_type": "stream",
     "text": [
      "Epoch [48/50]  Training: 100%|██████████| 1250/1250 [00:32<00:00, 38.25batch/s, train_acc=68.75 %, train_loss=0.113]\n"
     ]
    },
    {
     "name": "stdout",
     "output_type": "stream",
     "text": [
      "Epoch [48/50] Validation: val_loss: 0.15886004949910953 val_acc: 77.47 %\n"
     ]
    },
    {
     "name": "stderr",
     "output_type": "stream",
     "text": [
      "Epoch [49/50]  Training: 100%|██████████| 1250/1250 [00:31<00:00, 39.10batch/s, train_acc=96.875 %, train_loss=0.113]\n"
     ]
    },
    {
     "name": "stdout",
     "output_type": "stream",
     "text": [
      "Epoch [49/50] Validation: val_loss: 0.15908666676320968 val_acc: 77.51 %\n"
     ]
    },
    {
     "name": "stderr",
     "output_type": "stream",
     "text": [
      "Epoch [50/50]  Training: 100%|██████████| 1250/1250 [00:31<00:00, 39.42batch/s, train_acc=81.25 %, train_loss=0.114] \n"
     ]
    },
    {
     "name": "stdout",
     "output_type": "stream",
     "text": [
      "Epoch [50/50] Validation: val_loss: 0.1588734276235675 val_acc: 77.49000000000001 %\n"
     ]
    }
   ],
   "source": [
    "trainer.fit()"
   ]
  },
  {
   "cell_type": "markdown",
   "metadata": {},
   "source": [
    "### Evaluation "
   ]
  },
  {
   "cell_type": "code",
   "execution_count": 16,
   "metadata": {},
   "outputs": [
    {
     "name": "stdout",
     "output_type": "stream",
     "text": [
      "- - - Model Performance - - -\n",
      "\n",
      "Model Accuracy:  77.49000000000001\n",
      "Correct predictions: 7749, Incorret predictions: 2251\n",
      "\n"
     ]
    },
    {
     "data": {
      "image/png": "[encoded data removed]",
      "text/plain": [
       "<Figure size 432x288 with 2 Axes>"
      ]
     },
     "metadata": {
      "needs_background": "light"
     },
     "output_type": "display_data"
    },
    {
     "name": "stdout",
     "output_type": "stream",
     "text": [
      "TP: 4192\n",
      "FP: 924\n",
      "FN: 1327\n",
      "TN: 3557\n",
      "\n",
      "Percision Score: 0.7282964782964783\n",
      "Recall Score: 0.7937960276723945\n",
      "F1 Score: 0.7596369460758142\n"
     ]
    },
    {
     "data": {
      "image/png": "[encoded data removed]",
      "text/plain": [
       "<Figure size 432x288 with 1 Axes>"
      ]
     },
     "metadata": {
      "needs_background": "light"
     },
     "output_type": "display_data"
    }
   ],
   "source": [
    "trainer.test()"
   ]
  },
  {
   "cell_type": "markdown",
   "metadata": {},
   "source": [
    "#### Store Model"
   ]
  },
  {
   "cell_type": "code",
   "execution_count": 17,
   "metadata": {},
   "outputs": [],
   "source": [
    "# If you like to store the model, uncomment the following lines and enter filename and path \n",
    "\n",
    "#filename = \"model.pt\"\n",
    "#path = ROOT_PATH\n",
    "#save_model(model, path + \"/\" + filename)"
   ]
  },
  {
   "cell_type": "markdown",
   "metadata": {},
   "source": [
    "## Make predicitions\n",
    "\n",
    "Use you the previously trained model to make prediction on some samples. At the end one can input a custom question pair and see how the model is performing on it."
   ]
  },
  {
   "cell_type": "markdown",
   "metadata": {},
   "source": [
    "#### Checkout random sample from training data"
   ]
  },
  {
   "cell_type": "code",
   "execution_count": 18,
   "metadata": {},
   "outputs": [
    {
     "name": "stdout",
     "output_type": "stream",
     "text": [
      "question 1: ['which is the best movie of 2016']\n",
      "question 2: ['which movies are the best in 2016']\n",
      "tokens  q1: [[126, 22, 23, 24, 520, 37, 308]]\n",
      "tokens  q2: [[126, 523, 2, 23, 24, 30, 308]]\n",
      "\n",
      "\n",
      "Model predicts 1.0 --> Actual value 1.0\n",
      "Model prediction is correct :)\n",
      "\n",
      "The questions ['which is the best movie of 2016'] and ['which movies are the best in 2016'] are similar!\n"
     ]
    }
   ],
   "source": [
    "ind = np.random.choice(len(train_dataloader))\n",
    "test_sample_train = dict()\n",
    "for idx, batch in enumerate(train_dataloader):\n",
    "    if idx == ind:\n",
    "        test_sample_train['q1_text'] = [batch['q1_text'][0]]\n",
    "        test_sample_train['q2_text'] = [batch['q2_text'][0]]\n",
    "        test_sample_train['q1_token'] = [batch['q1_token'][0]]\n",
    "        test_sample_train['q2_token'] = [batch['q2_token'][0]]\n",
    "        test_sample_train['q1_lengths'] = [batch['q1_lengths'][0]]\n",
    "        test_sample_train['q2_lengths'] = [batch['q2_lengths'][0]]\n",
    "        test_sample_train['labels'] = [batch['labels'][0]]\n",
    "\n",
    "trainer.predict(test_sample_train)"
   ]
  },
  {
   "cell_type": "markdown",
   "metadata": {},
   "source": [
    "#### Checkout random sample from validation data"
   ]
  },
  {
   "cell_type": "code",
   "execution_count": 19,
   "metadata": {},
   "outputs": [
    {
     "name": "stdout",
     "output_type": "stream",
     "text": [
      "question 1: ['how can i get android developer job in htc']\n",
      "question 2: ['how do i get android developer job']\n",
      "tokens  q1: [[10, 11, 12, 139, 111, 1867, 539, 30, 9434]]\n",
      "tokens  q2: [[10, 18, 12, 139, 111, 1867, 539]]\n",
      "\n",
      "\n",
      "Model predicts 0.0 --> Actual value 0.0\n",
      "Model prediction is correct :)\n",
      "\n",
      "The questions ['how can i get android developer job in htc'] and ['how do i get android developer job'] are dissimilar!\n"
     ]
    }
   ],
   "source": [
    "ind = np.random.choice(len(val_dataloader))\n",
    "\n",
    "test_sample_val = dict()\n",
    "for idx, batch in enumerate(val_dataloader):\n",
    "    if idx == ind:\n",
    "        test_sample_val['q1_text'] = [batch['q1_text'][0]]\n",
    "        test_sample_val['q2_text'] = [batch['q2_text'][0]]\n",
    "        test_sample_val['q1_token'] = [batch['q1_token'][0]]\n",
    "        test_sample_val['q2_token'] = [batch['q2_token'][0]]\n",
    "        test_sample_val['q1_lengths'] = [batch['q1_lengths'][0]]\n",
    "        test_sample_val['q2_lengths'] = [batch['q2_lengths'][0]]\n",
    "        test_sample_val['labels'] = [batch['labels'][0]]\n",
    "\n",
    "trainer.predict(test_sample_val)"
   ]
  },
  {
   "cell_type": "markdown",
   "metadata": {},
   "source": [
    "### Predict from custom input questions"
   ]
  },
  {
   "cell_type": "code",
   "execution_count": 20,
   "metadata": {},
   "outputs": [],
   "source": [
    "default = True  # set to False to create your own inputs\n",
    "similar = False  # select False to dispaly dissimlar example\n",
    "\n",
    "if default:\n",
    "    if similar:\n",
    "        q1 = ['Is it cold today?']\n",
    "        q2 = ['Will it be cold today?']\n",
    "        label = [1.0]\n",
    "    else:\n",
    "        q1 = ['Will I pass the final?']\n",
    "        q2 = ['What will I have for dinner tonight?']\n",
    "        label = [0.0]\n",
    "else:\n",
    "    q1 = input(r'Enter your 1^st question: ')\n",
    "    q2 = input(r'Enter your 2^nd question: ')\n",
    "    label = input('label: ') # 0 for dissimilar, 1 for similar \n",
    "    q1 = [q1]\n",
    "    q2 = [q2]\n",
    "    label = [label]"
   ]
  },
  {
   "cell_type": "code",
   "execution_count": 21,
   "metadata": {},
   "outputs": [
    {
     "name": "stdout",
     "output_type": "stream",
     "text": [
      "Question Pairs:  1\n",
      "[('will i pass the final', 'what will i have for dinner tonight')]\n",
      "question 1: ['will i pass the final']\n",
      "question 2: ['what will i have for dinner tonight']\n",
      "tokens  q1: [[41, 12, 1487, 23, 1303]]\n",
      "tokens  q2: [[1, 41, 12, 165, 63, 4425, 11626]]\n",
      "\n",
      "\n",
      "Model predicts 0.0 --> Actual value 0.0\n",
      "Model prediction is correct :)\n",
      "\n",
      "The questions ['will i pass the final'] and ['what will i have for dinner tonight'] are dissimilar!\n"
     ]
    }
   ],
   "source": [
    "# prepair custom input\n",
    "# create df\n",
    "df_own = pd.DataFrame(list(zip(q1, q2, label)), columns=['question1', 'question2', 'is_duplicate'])\n",
    "# prepare data \n",
    "q_pair_own, label = convert_data_to_tuples(df_own, hparams['remove_stopwords'], hparams['stem_words'])\n",
    "print(q_pair_own)\n",
    "\n",
    "# create dataset \n",
    "own_dataset = QuoraDataset(q_pair_own, language.word2index, label)\n",
    "\n",
    "# create dataloader\n",
    "predict_dataloader = torch.utils.data.DataLoader(own_dataset, batch_size=1, collate_fn=collate)\n",
    "\n",
    "for sample in predict_dataloader:\n",
    "    test_sample = sample\n",
    "\n",
    "# predict \n",
    "trainer.predict(test_sample)"
   ]
  },
  {
   "cell_type": "code",
   "execution_count": null,
   "metadata": {},
   "outputs": [],
   "source": []
  }
 ],
 "metadata": {
  "kernelspec": {
   "display_name": "Python 3",
   "language": "python",
   "name": "python3"
  },
  "language_info": {
   "codemirror_mode": {
    "name": "ipython",
    "version": 3
   },
   "file_extension": ".py",
   "mimetype": "text/x-python",
   "name": "python",
   "nbconvert_exporter": "python",
   "pygments_lexer": "ipython3",
   "version": "3.7.4"
  }
 },
 "nbformat": 4,
 "nbformat_minor": 2
}
